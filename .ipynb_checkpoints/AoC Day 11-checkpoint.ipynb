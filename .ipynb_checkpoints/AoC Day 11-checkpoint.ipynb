{
 "cells": [
  {
   "cell_type": "markdown",
   "metadata": {},
   "source": [
    "## First Attempt"
   ]
  },
  {
   "cell_type": "code",
   "execution_count": 1,
   "metadata": {},
   "outputs": [],
   "source": [
    "from pathlib import Path\n",
    "import numpy as np\n",
    "from collections import defaultdict\n",
    "import operator"
   ]
  },
  {
   "cell_type": "code",
   "execution_count": 2,
   "metadata": {},
   "outputs": [],
   "source": [
    "ops = {\n",
    "    '+' : operator.add,\n",
    "    '-' : operator.sub,\n",
    "    '*' : operator.mul,\n",
    "    '/' : operator.truediv,  # use operator.div for Python 2\n",
    "    '%' : operator.mod,\n",
    "    '^' : operator.xor,\n",
    "}"
   ]
  },
  {
   "cell_type": "code",
   "execution_count": 3,
   "metadata": {},
   "outputs": [
    {
     "name": "stdout",
     "output_type": "stream",
     "text": [
      "['Monkey 0:\\n  Starting items: 91, 58, 52, 69, 95, 54\\n  Operation: new = old * 13\\n  Test: divisible by 7\\n    If true: throw to monkey 1\\n    If false: throw to monkey 5', 'Monkey 1:\\n  Starting items: 80, 80, 97, 84\\n  Operation: new = old * old\\n  Test: divisible by 3\\n    If true: throw to monkey 3\\n    If false: throw to monkey 5', 'Monkey 2:\\n  Starting items: 86, 92, 71\\n  Operation: new = old + 7\\n  Test: divisible by 2\\n    If true: throw to monkey 0\\n    If false: throw to monkey 4', 'Monkey 3:\\n  Starting items: 96, 90, 99, 76, 79, 85, 98, 61\\n  Operation: new = old + 4\\n  Test: divisible by 11\\n    If true: throw to monkey 7\\n    If false: throw to monkey 6', 'Monkey 4:\\n  Starting items: 60, 83, 68, 64, 73\\n  Operation: new = old * 19\\n  Test: divisible by 17\\n    If true: throw to monkey 1\\n    If false: throw to monkey 0', 'Monkey 5:\\n  Starting items: 96, 52, 52, 94, 76, 51, 57\\n  Operation: new = old + 3\\n  Test: divisible by 5\\n    If true: throw to monkey 7\\n    If false: throw to monkey 3', 'Monkey 6:\\n  Starting items: 75\\n  Operation: new = old + 5\\n  Test: divisible by 13\\n    If true: throw to monkey 4\\n    If false: throw to monkey 2', 'Monkey 7:\\n  Starting items: 83, 75\\n  Operation: new = old + 1\\n  Test: divisible by 19\\n    If true: throw to monkey 2\\n    If false: throw to monkey 6']\n"
     ]
    }
   ],
   "source": [
    "dtype = 'string'\n",
    "txt=[]\n",
    "\n",
    "f_in = Path('./Data Sets/day11data.txt')\n",
    "with open(f_in,'r') as f:\n",
    "    txt = f.read().split('\\n\\n')\n",
    "\n",
    "if(dtype == 'int'):\n",
    "    nums = []\n",
    "    for num in txt:\n",
    "        nums.append(int(num))\n",
    "elif(dtype == 'float'):\n",
    "    nums = []\n",
    "    for num in txt:\n",
    "        nums.append(float(num))\n",
    "print(txt)\n",
    "# print(nums)"
   ]
  },
  {
   "cell_type": "code",
   "execution_count": 4,
   "metadata": {},
   "outputs": [
    {
     "name": "stdout",
     "output_type": "stream",
     "text": [
      "defaultdict(<class 'list'>, {0: [91, 58, 52, 69, 95, 54]})\n",
      "defaultdict(<class 'list'>, {0: [91, 58, 52, 69, 95, 54], 1: [80, 80, 97, 84]})\n",
      "defaultdict(<class 'list'>, {0: [91, 58, 52, 69, 95, 54], 1: [80, 80, 97, 84], 2: [86, 92, 71]})\n",
      "defaultdict(<class 'list'>, {0: [91, 58, 52, 69, 95, 54], 1: [80, 80, 97, 84], 2: [86, 92, 71], 3: [96, 90, 99, 76, 79, 85, 98, 61]})\n",
      "defaultdict(<class 'list'>, {0: [91, 58, 52, 69, 95, 54], 1: [80, 80, 97, 84], 2: [86, 92, 71], 3: [96, 90, 99, 76, 79, 85, 98, 61], 4: [60, 83, 68, 64, 73]})\n",
      "defaultdict(<class 'list'>, {0: [91, 58, 52, 69, 95, 54], 1: [80, 80, 97, 84], 2: [86, 92, 71], 3: [96, 90, 99, 76, 79, 85, 98, 61], 4: [60, 83, 68, 64, 73], 5: [96, 52, 52, 94, 76, 51, 57]})\n",
      "defaultdict(<class 'list'>, {0: [91, 58, 52, 69, 95, 54], 1: [80, 80, 97, 84], 2: [86, 92, 71], 3: [96, 90, 99, 76, 79, 85, 98, 61], 4: [60, 83, 68, 64, 73], 5: [96, 52, 52, 94, 76, 51, 57], 6: [75]})\n",
      "defaultdict(<class 'list'>, {0: [91, 58, 52, 69, 95, 54], 1: [80, 80, 97, 84], 2: [86, 92, 71], 3: [96, 90, 99, 76, 79, 85, 98, 61], 4: [60, 83, 68, 64, 73], 5: [96, 52, 52, 94, 76, 51, 57], 6: [75], 7: [83, 75]})\n"
     ]
    }
   ],
   "source": [
    "monkeys = []\n",
    "monkey_item_counter = {}\n",
    "items = defaultdict(list)\n",
    "operation = dict()\n",
    "op_val = dict()\n",
    "divisible = dict()\n",
    "true = dict()\n",
    "false = dict()\n",
    "\n",
    "for p in txt:\n",
    "    lines = p.split('\\n')\n",
    "    \n",
    "    m = int(lines[0][7])\n",
    "    monkeys.append(m)\n",
    "    monkey_item_counter[m] = 0\n",
    "    for v in lines[1][18:].split(', '):\n",
    "        items[m].append(int(v))\n",
    "    op, val = lines[2][23:].split(' ')\n",
    "    if val == 'old':\n",
    "        op = '**2'\n",
    "        val = 0\n",
    "    operation[m] = op\n",
    "    op_val[m] = int(val)\n",
    "    divisible[m] = int(lines[3][21:])\n",
    "    true[m] = int(lines[4][-1:])\n",
    "    false[m] = int(lines[5][-1:])\n",
    "    print(items)\n",
    "#     print(divisible)"
   ]
  },
  {
   "cell_type": "code",
   "execution_count": 5,
   "metadata": {
    "scrolled": true
   },
   "outputs": [
    {
     "name": "stdout",
     "output_type": "stream",
     "text": [
      "Round 1\n",
      "defaultdict(<class 'list'>, {0: [26, 380, 525, 430, 405, 462, 196, 209], 1: [], 2: [12, 10, 10, 11, 8, 239, 239, 263], 3: [33, 18, 18, 32, 26, 18, 132, 84, 76, 138, 79, 1046], 4: [26, 13, 13], 5: [], 6: [28, 25, 11, 7, 33], 7: []})\n",
      "Round 2\n",
      "defaultdict(<class 'list'>, {0: [6, 6, 82, 82, 90, 164, 82, 82, 31, 31, 31], 1: [], 2: [11, 10, 5, 4, 12, 5, 4, 4, 5, 5, 4, 16, 11, 10, 17, 10, 118], 3: [549, 622, 586, 284, 302, 1394, 445334], 4: [], 5: [], 6: [191690], 7: []})\n",
      "Round 3\n",
      "defaultdict(<class 'list'>, {0: [6, 4, 6, 4, 4, 4, 6, 8, 31, 19, 19, 19, 19, 44, 31, 31, 259], 1: [], 2: [63898, 63, 71, 67, 33, 35, 157, 49483], 3: [9, 9, 119, 119, 131, 237, 119, 119], 4: [], 5: [], 6: [15, 15, 15], 7: []})\n",
      "Round 4\n",
      "defaultdict(<class 'list'>, {0: [26, 24, 14, 54, 16496, 134906, 145, 82], 1: [], 2: [6, 6, 6, 3, 3, 15, 15, 16, 28, 15, 15], 3: [9, 6, 9, 6, 6, 6, 9, 12, 28, 28, 28, 28, 64], 4: [], 5: [], 6: [15, 15, 15, 125], 7: []})\n",
      "Round 5\n",
      "defaultdict(<class 'list'>, {0: [4, 4, 4, 19, 19, 44, 44, 44, 69, 44, 44], 1: [], 2: [6, 6, 6, 43, 3, 2, 3, 2, 2, 2, 3, 3, 5, 5, 5, 5], 3: [21, 79, 23828, 119, 1394], 4: [], 5: [], 6: [7, 12, 64955, 70], 7: []})\n",
      "Round 6\n",
      "defaultdict(<class 'list'>, {0: [4, 4, 4, 16, 4, 4, 4, 4, 19, 19, 19, 19, 19, 19, 19, 19], 1: [], 2: [4, 5, 21653, 25, 4, 10, 2649, 15, 157], 3: [6, 6, 6, 28, 28, 64, 64, 64, 64, 64], 4: [], 5: [], 6: [33], 7: []})\n",
      "Round 7\n",
      "defaultdict(<class 'list'>, {0: [4, 7220, 10, 54, 19, 19, 31, 5605, 44], 1: [], 2: [12, 2, 2, 2, 5, 5], 3: [6, 6, 6, 24, 6, 6, 6, 6, 28, 28, 28, 28, 28, 28, 28, 28], 4: [], 5: [], 6: [7, 7, 7, 7, 7], 7: []})\n",
      "Round 8\n",
      "defaultdict(<class 'list'>, {0: [6, 4, 4, 19, 19, 19], 1: [], 2: [4, 4, 4, 4, 4, 2, 2, 2, 4, 2, 2, 2, 2, 5, 5, 5, 5, 5, 5, 5, 5], 3: [6, 10429, 79, 28, 28, 8097, 64], 4: [], 5: [], 6: [5, 15], 7: []})\n",
      "Round 9\n",
      "defaultdict(<class 'list'>, {0: [4, 4, 4, 4, 4, 4, 4, 4, 19, 19, 19, 19, 19, 19, 19, 19, 19, 19, 19, 19, 19], 1: [], 2: [3, 6, 2, 1160, 10, 5, 5, 901], 3: [9, 6, 6, 28, 28, 28], 4: [], 5: [], 6: [7], 7: []})\n",
      "Round 10\n",
      "defaultdict(<class 'list'>, {0: [4, 4, 4, 302, 19, 19, 2463, 31], 1: [], 2: [4, 3, 2, 2, 5, 5, 5], 3: [6, 6, 6, 6, 6, 6, 6, 6, 28, 28, 28, 28, 28, 28, 28, 28, 28, 28, 28, 28, 28], 4: [], 5: [], 6: [], 7: []})\n",
      "Round 11\n",
      "defaultdict(<class 'list'>, {0: [4, 4, 4, 19, 19, 19, 19], 1: [], 2: [2, 2, 2, 2, 2, 2, 2, 2, 5, 5, 5, 5, 5, 5, 5, 5, 5, 5, 5, 5, 5], 3: [6, 6, 6, 437, 28, 28, 3558], 4: [], 5: [], 6: [15], 7: []})\n",
      "Round 12\n",
      "defaultdict(<class 'list'>, {0: [4, 4, 4, 4, 4, 4, 4, 4, 4, 4, 4, 4, 4, 19, 19, 19, 19, 19, 19, 19, 19], 1: [], 2: [6, 2, 2, 2, 50, 5, 5, 397], 3: [6, 6, 6, 28, 28, 28, 28], 4: [], 5: [], 6: [], 7: []})\n",
      "Round 13\n",
      "defaultdict(<class 'list'>, {0: [4, 4, 4, 134, 19, 19, 19, 120], 1: [], 2: [2, 2, 2, 5, 5, 5, 5], 3: [6, 6, 6, 6, 6, 6, 6, 6, 6, 6, 6, 6, 6, 28, 28, 28, 28, 28, 28, 28, 28], 4: [], 5: [], 6: [], 7: []})\n",
      "Round 14\n",
      "defaultdict(<class 'list'>, {0: [4, 4, 4, 4, 19, 19, 19], 1: [], 2: [2, 2, 2, 2, 2, 2, 2, 2, 2, 2, 2, 2, 2, 5, 5, 5, 5, 5, 5, 5, 5], 3: [6, 6, 6, 194, 28, 28, 28, 174], 4: [], 5: [], 6: [], 7: []})\n",
      "Round 15\n",
      "defaultdict(<class 'list'>, {0: [4, 4, 4, 4, 4, 4, 4, 4, 19, 19, 19, 19, 19, 19, 19, 19, 19, 19, 19, 19, 19], 1: [], 2: [2, 2, 2, 5, 5, 5, 21], 3: [6, 6, 6, 6, 28, 28, 28], 4: [], 5: [], 6: [22], 7: []})\n",
      "Round 16\n",
      "defaultdict(<class 'list'>, {0: [4, 4, 4, 19, 19, 19, 57], 1: [], 2: [9, 2, 2, 2, 2, 5, 5, 5], 3: [6, 6, 6, 6, 6, 6, 6, 6, 28, 28, 28, 28, 28, 28, 28, 28, 28, 28, 28, 28, 28], 4: [], 5: [], 6: [], 7: []})\n",
      "Round 17\n",
      "defaultdict(<class 'list'>, {0: [4, 4, 4, 31, 19, 19, 19, 19], 1: [], 2: [2, 2, 2, 2, 2, 2, 2, 2, 5, 5, 5, 5, 5, 5, 5, 5, 5, 5, 5, 5, 5], 3: [6, 6, 6, 28, 28, 28, 83], 4: [], 5: [], 6: [], 7: []})\n",
      "Round 18\n",
      "defaultdict(<class 'list'>, {0: [4, 4, 4, 4, 4, 4, 4, 4, 4, 4, 4, 4, 4, 19, 19, 19, 19, 19, 19, 19, 19], 1: [], 2: [2, 2, 2, 5, 5, 5, 11], 3: [6, 6, 6, 28, 28, 28, 28], 4: [], 5: [], 6: [15], 7: []})\n",
      "Round 19\n",
      "defaultdict(<class 'list'>, {0: [4, 4, 4, 6, 19, 19, 19], 1: [], 2: [6, 2, 2, 2, 5, 5, 5, 5], 3: [6, 6, 6, 6, 6, 6, 6, 6, 6, 6, 6, 6, 6, 28, 28, 28, 28, 28, 28, 28, 28], 4: [], 5: [], 6: [], 7: []})\n",
      "Round 20\n",
      "defaultdict(<class 'list'>, {0: [4, 4, 4, 4, 4, 19, 19, 19], 1: [], 2: [2, 2, 2, 2, 2, 2, 2, 2, 2, 2, 2, 2, 2, 5, 5, 5, 5, 5, 5, 5, 5], 3: [6, 6, 6, 9, 28, 28, 28], 4: [], 5: [], 6: [], 7: []})\n"
     ]
    }
   ],
   "source": [
    "# print(items)\n",
    "\n",
    "rounds = 20\n",
    "\n",
    "# loop through rounds\n",
    "for r in range(rounds):\n",
    "    \n",
    "    # loop through monkeys\n",
    "    for m in monkeys:\n",
    "#         print('** Monkey ', m, ' **')\n",
    "        # loop through monkey's items\n",
    "        remove = []\n",
    "        monkey_item_counter[m] += len(items[m])\n",
    "        for item in items[m]:\n",
    "#             print('Item start Value:', item)\n",
    "            monkey_op = operation[m]\n",
    "            if monkey_op == '**2':\n",
    "                item = item **2\n",
    "            else:\n",
    "                item = int(ops[operation[m]](item, op_val[m]))\n",
    "#             print('Item end value', item)\n",
    "            item = int(item/3)\n",
    "#             print('Item before comparison:', item)\n",
    "            \n",
    "            # move the item to the next monkey\n",
    "            if item % divisible[m] == 0:\n",
    "                items[true[m]].append(item)\n",
    "            else:\n",
    "                items[false[m]].append(item)\n",
    "        # clear the items from the monkey\n",
    "        items[m] = []\n",
    "    print('Round', r+1)\n",
    "    print(items)"
   ]
  },
  {
   "cell_type": "code",
   "execution_count": 6,
   "metadata": {},
   "outputs": [
    {
     "name": "stdout",
     "output_type": "stream",
     "text": [
      "57348\n"
     ]
    }
   ],
   "source": [
    "counts = [monkey_item_counter[m] for m in monkey_item_counter.keys()]\n",
    "counts.sort()\n",
    "print(counts[-1] * counts[-2])\n",
    "    "
   ]
  },
  {
   "cell_type": "markdown",
   "metadata": {},
   "source": [
    "## Part 2"
   ]
  },
  {
   "cell_type": "code",
   "execution_count": 16,
   "metadata": {},
   "outputs": [
    {
     "name": "stdout",
     "output_type": "stream",
     "text": [
      "defaultdict(<class 'list'>, {0: [91, 58, 52, 69, 95, 54]})\n",
      "defaultdict(<class 'list'>, {0: [91, 58, 52, 69, 95, 54], 1: [80, 80, 97, 84]})\n",
      "defaultdict(<class 'list'>, {0: [91, 58, 52, 69, 95, 54], 1: [80, 80, 97, 84], 2: [86, 92, 71]})\n",
      "defaultdict(<class 'list'>, {0: [91, 58, 52, 69, 95, 54], 1: [80, 80, 97, 84], 2: [86, 92, 71], 3: [96, 90, 99, 76, 79, 85, 98, 61]})\n",
      "defaultdict(<class 'list'>, {0: [91, 58, 52, 69, 95, 54], 1: [80, 80, 97, 84], 2: [86, 92, 71], 3: [96, 90, 99, 76, 79, 85, 98, 61], 4: [60, 83, 68, 64, 73]})\n",
      "defaultdict(<class 'list'>, {0: [91, 58, 52, 69, 95, 54], 1: [80, 80, 97, 84], 2: [86, 92, 71], 3: [96, 90, 99, 76, 79, 85, 98, 61], 4: [60, 83, 68, 64, 73], 5: [96, 52, 52, 94, 76, 51, 57]})\n",
      "defaultdict(<class 'list'>, {0: [91, 58, 52, 69, 95, 54], 1: [80, 80, 97, 84], 2: [86, 92, 71], 3: [96, 90, 99, 76, 79, 85, 98, 61], 4: [60, 83, 68, 64, 73], 5: [96, 52, 52, 94, 76, 51, 57], 6: [75]})\n",
      "defaultdict(<class 'list'>, {0: [91, 58, 52, 69, 95, 54], 1: [80, 80, 97, 84], 2: [86, 92, 71], 3: [96, 90, 99, 76, 79, 85, 98, 61], 4: [60, 83, 68, 64, 73], 5: [96, 52, 52, 94, 76, 51, 57], 6: [75], 7: [83, 75]})\n"
     ]
    }
   ],
   "source": [
    "monkeys = []\n",
    "monkey_item_counter = {}\n",
    "items = defaultdict(list)\n",
    "operation = dict()\n",
    "op_val = dict()\n",
    "divisible = dict()\n",
    "true = dict()\n",
    "false = dict()\n",
    "\n",
    "for p in txt:\n",
    "    lines = p.split('\\n')\n",
    "    \n",
    "    m = int(lines[0][7])\n",
    "    monkeys.append(m)\n",
    "    monkey_item_counter[m] = 0\n",
    "    for v in lines[1][18:].split(', '):\n",
    "        items[m].append(int(v))\n",
    "    op, val = lines[2][23:].split(' ')\n",
    "    if val == 'old':\n",
    "        op = '**2'\n",
    "        val = 0\n",
    "    operation[m] = op\n",
    "    op_val[m] = int(val)\n",
    "    divisible[m] = int(lines[3][21:])\n",
    "    true[m] = int(lines[4][-1:])\n",
    "    false[m] = int(lines[5][-1:])\n",
    "    print(items)\n",
    "#     print(divisible)\n",
    "total_divisor = 1\n",
    "for m in monkeys:\n",
    "    total_divisor *= divisible[m]"
   ]
  },
  {
   "cell_type": "code",
   "execution_count": 17,
   "metadata": {
    "scrolled": false
   },
   "outputs": [
    {
     "name": "stdout",
     "output_type": "stream",
     "text": [
      "Round 0\n",
      "Round 100\n",
      "Round 200\n",
      "Round 300\n",
      "Round 400\n",
      "Round 500\n",
      "Round 600\n",
      "Round 700\n",
      "Round 800\n",
      "Round 900\n",
      "Round 1000\n",
      "Round 1100\n",
      "Round 1200\n",
      "Round 1300\n",
      "Round 1400\n",
      "Round 1500\n",
      "Round 1600\n",
      "Round 1700\n",
      "Round 1800\n",
      "Round 1900\n",
      "Round 2000\n",
      "Round 2100\n",
      "Round 2200\n",
      "Round 2300\n",
      "Round 2400\n",
      "Round 2500\n",
      "Round 2600\n",
      "Round 2700\n",
      "Round 2800\n",
      "Round 2900\n",
      "Round 3000\n",
      "Round 3100\n",
      "Round 3200\n",
      "Round 3300\n",
      "Round 3400\n",
      "Round 3500\n",
      "Round 3600\n",
      "Round 3700\n",
      "Round 3800\n",
      "Round 3900\n",
      "Round 4000\n",
      "Round 4100\n",
      "Round 4200\n",
      "Round 4300\n",
      "Round 4400\n",
      "Round 4500\n",
      "Round 4600\n",
      "Round 4700\n",
      "Round 4800\n",
      "Round 4900\n",
      "Round 5000\n",
      "Round 5100\n",
      "Round 5200\n",
      "Round 5300\n",
      "Round 5400\n",
      "Round 5500\n",
      "Round 5600\n",
      "Round 5700\n",
      "Round 5800\n",
      "Round 5900\n",
      "Round 6000\n",
      "Round 6100\n",
      "Round 6200\n",
      "Round 6300\n",
      "Round 6400\n",
      "Round 6500\n",
      "Round 6600\n",
      "Round 6700\n",
      "Round 6800\n",
      "Round 6900\n",
      "Round 7000\n",
      "Round 7100\n",
      "Round 7200\n",
      "Round 7300\n",
      "Round 7400\n",
      "Round 7500\n",
      "Round 7600\n",
      "Round 7700\n",
      "Round 7800\n",
      "Round 7900\n",
      "Round 8000\n",
      "Round 8100\n",
      "Round 8200\n",
      "Round 8300\n",
      "Round 8400\n",
      "Round 8500\n",
      "Round 8600\n",
      "Round 8700\n",
      "Round 8800\n",
      "Round 8900\n",
      "Round 9000\n",
      "Round 9100\n",
      "Round 9200\n",
      "Round 9300\n",
      "Round 9400\n",
      "Round 9500\n",
      "Round 9600\n",
      "Round 9700\n",
      "Round 9800\n",
      "Round 9900\n"
     ]
    }
   ],
   "source": [
    "# print(items)\n",
    "\n",
    "rounds = 10000\n",
    "\n",
    "# loop through rounds\n",
    "for r in range(rounds):\n",
    "    \n",
    "    # loop through monkeys\n",
    "    for m in monkeys:\n",
    "#         print('** Monkey ', m, ' **')\n",
    "        # loop through monkey's items\n",
    "        remove = []\n",
    "        monkey_item_counter[m] += len(items[m])\n",
    "        for item in items[m]:\n",
    "#             print('Item start Value:', item)\n",
    "            monkey_op = operation[m]\n",
    "            if monkey_op == '**2':\n",
    "                item = item **2\n",
    "            else:\n",
    "                item = int(ops[operation[m]](item, op_val[m]))\n",
    "#             print('Item end value', item)\n",
    "            item = int(item)\n",
    "#             print('Item before comparison:', item)\n",
    "            \n",
    "            # move the item to the next monkey\n",
    "            if item % divisible[m] == 0:\n",
    "                items[true[m]].append(item)\n",
    "            else:\n",
    "                items[false[m]].append(item)\n",
    "        # clear the items from the monkey\n",
    "        items[m] = []\n",
    "    for m in monkeys:\n",
    "        for idx, l in enumerate(items[m]):\n",
    "#             print(l)\n",
    "            items[m][idx] = l - int(l/total_divisor)*total_divisor\n",
    "    if(r%100 == 0):\n",
    "        print('Round', r)"
   ]
  },
  {
   "cell_type": "code",
   "execution_count": 18,
   "metadata": {},
   "outputs": [
    {
     "name": "stdout",
     "output_type": "stream",
     "text": [
      "14106266886\n"
     ]
    }
   ],
   "source": [
    "counts = [monkey_item_counter[m] for m in monkey_item_counter.keys()]\n",
    "counts.sort()\n",
    "print(counts[-1] * counts[-2])\n",
    "    "
   ]
  },
  {
   "cell_type": "code",
   "execution_count": 9,
   "metadata": {},
   "outputs": [
    {
     "data": {
      "text/plain": [
       "9699690"
      ]
     },
     "execution_count": 9,
     "metadata": {},
     "output_type": "execute_result"
    }
   ],
   "source": [
    "total_divisor"
   ]
  },
  {
   "cell_type": "code",
   "execution_count": null,
   "metadata": {},
   "outputs": [],
   "source": []
  }
 ],
 "metadata": {
  "kernelspec": {
   "display_name": "Python 3 (ipykernel)",
   "language": "python",
   "name": "python3"
  },
  "language_info": {
   "codemirror_mode": {
    "name": "ipython",
    "version": 3
   },
   "file_extension": ".py",
   "mimetype": "text/x-python",
   "name": "python",
   "nbconvert_exporter": "python",
   "pygments_lexer": "ipython3",
   "version": "3.10.4"
  }
 },
 "nbformat": 4,
 "nbformat_minor": 4
}
