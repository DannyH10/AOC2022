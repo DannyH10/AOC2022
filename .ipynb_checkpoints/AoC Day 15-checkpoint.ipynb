{
 "cells": [
  {
   "cell_type": "markdown",
   "metadata": {},
   "source": [
    "## First Attempt"
   ]
  },
  {
   "cell_type": "code",
   "execution_count": 90,
   "metadata": {},
   "outputs": [],
   "source": [
    "from pathlib import Path\n",
    "import numpy as np\n",
    "import regex as re"
   ]
  },
  {
   "cell_type": "code",
   "execution_count": 91,
   "metadata": {},
   "outputs": [
    {
     "name": "stdout",
     "output_type": "stream",
     "text": [
      "['Sensor at x=2832148, y=322979: closest beacon is at x=3015667, y=-141020', 'Sensor at x=1449180, y=3883502: closest beacon is at x=2656952, y=4188971', 'Sensor at x=2808169, y=1194666: closest beacon is at x=3015667, y=-141020', 'Sensor at x=1863363, y=2435968: closest beacon is at x=2166084, y=2883057', 'Sensor at x=3558230, y=2190936: closest beacon is at x=3244164, y=2592191', 'Sensor at x=711491, y=2444705: closest beacon is at x=617239, y=2988377', 'Sensor at x=2727148, y=2766272: closest beacon is at x=2166084, y=2883057', 'Sensor at x=2857938, y=3988086: closest beacon is at x=2968511, y=4098658', 'Sensor at x=1242410, y=2270153: closest beacon is at x=214592, y=2000000', 'Sensor at x=3171784, y=2523127: closest beacon is at x=3244164, y=2592191', 'Sensor at x=2293378, y=71434: closest beacon is at x=3015667, y=-141020', 'Sensor at x=399711, y=73420: closest beacon is at x=1152251, y=-158441', 'Sensor at x=3677529, y=415283: closest beacon is at x=3015667, y=-141020', 'Sensor at x=207809, y=2348497: closest beacon is at x=214592, y=2000000', 'Sensor at x=60607, y=3403420: closest beacon is at x=617239, y=2988377', 'Sensor at x=3767729, y=3136725: closest beacon is at x=4171278, y=3348370', 'Sensor at x=3899632, y=3998969: closest beacon is at x=4171278, y=3348370', 'Sensor at x=394783, y=1541278: closest beacon is at x=214592, y=2000000', 'Sensor at x=1193642, y=642631: closest beacon is at x=1152251, y=-158441', 'Sensor at x=122867, y=2661904: closest beacon is at x=214592, y=2000000', 'Sensor at x=551012, y=3787568: closest beacon is at x=617239, y=2988377', 'Sensor at x=3175715, y=2975144: closest beacon is at x=3244164, y=2592191', 'Sensor at x=402217, y=2812449: closest beacon is at x=617239, y=2988377', 'Sensor at x=879648, y=1177329: closest beacon is at x=214592, y=2000000', 'Sensor at x=1317218, y=2978309: closest beacon is at x=617239, y=2988377', 'Sensor at x=3965126, y=1743931: closest beacon is at x=3244164, y=2592191', 'Sensor at x=2304348, y=3140055: closest beacon is at x=2166084, y=2883057', 'Sensor at x=3380135, y=3650709: closest beacon is at x=2968511, y=4098658', 'Sensor at x=49224, y=1914296: closest beacon is at x=214592, y=2000000', 'Sensor at x=3096228, y=2457233: closest beacon is at x=3244164, y=2592191', 'Sensor at x=1415660, y=6715: closest beacon is at x=1152251, y=-158441', 'Sensor at x=2616280, y=3548378: closest beacon is at x=2656952, y=4188971']\n"
     ]
    }
   ],
   "source": [
    "dtype = 'string'\n",
    "txt=[]\n",
    "\n",
    "f_in = Path('./Data Sets/day15data.txt')\n",
    "with open(f_in,'r') as f:\n",
    "    txt = f.read().split('\\n')\n",
    "\n",
    "if(dtype == 'int'):\n",
    "    nums = []\n",
    "    for num in txt:\n",
    "        nums.append(int(num))\n",
    "elif(dtype == 'float'):\n",
    "    nums = []\n",
    "    for num in txt:\n",
    "        nums.append(float(num))\n",
    "print(txt)\n",
    "# print(nums)"
   ]
  },
  {
   "cell_type": "markdown",
   "metadata": {},
   "source": [
    "## Part 1"
   ]
  },
  {
   "cell_type": "code",
   "execution_count": 92,
   "metadata": {},
   "outputs": [],
   "source": [
    "bxs = set()\n",
    "bys = set()\n",
    "sensors = []\n",
    "beacons = []\n",
    "\n",
    "for line in txt:\n",
    "    vals_str = re.findall(r'-?[0-9]+', line)\n",
    "    l = []\n",
    "    for v in vals_str:\n",
    "        l.append(int(v))\n",
    "    sx, sy, bx, by = l\n",
    "    sensors.append((sx, sy))\n",
    "    beacons.append((bx, by))\n",
    "    bxs.add(bx)\n",
    "    bys.add(by)"
   ]
  },
  {
   "cell_type": "code",
   "execution_count": 93,
   "metadata": {},
   "outputs": [
    {
     "name": "stdout",
     "output_type": "stream",
     "text": [
      "5394423\n"
     ]
    }
   ],
   "source": [
    "row_num = 2000000\n",
    "\n",
    "bs_on_line = set()\n",
    "\n",
    "x_min = min(bxs)\n",
    "x_max = max(bxs)\n",
    "row_vals = set()\n",
    "\n",
    "for idx, s_coord in enumerate(sensors):\n",
    "\n",
    "    b_x, b_y = beacons[idx]\n",
    "    s_x, s_y = s_coord\n",
    "    mh_dist = abs(b_x-s_x) + abs(b_y - s_y)\n",
    "    if b_y == row_num:\n",
    "        bs_on_line.add(b_x)\n",
    "    row_range = mh_dist - abs(s_y - row_num) + 1\n",
    "    \n",
    "    if row_range > 0:\n",
    "        clear_vals = list(range(s_x-row_range+1,s_x + row_range))\n",
    "        for v in clear_vals:\n",
    "            row_vals.add(v)\n",
    "        \n",
    "print(len(row_vals) - len(row_vals.intersection(bs_on_line)))\n",
    "    \n",
    "    "
   ]
  },
  {
   "cell_type": "markdown",
   "metadata": {},
   "source": [
    "## Part 2"
   ]
  },
  {
   "cell_type": "code",
   "execution_count": 97,
   "metadata": {},
   "outputs": [
    {
     "name": "stdout",
     "output_type": "stream",
     "text": [
      "0\n",
      "Unexpected exception formatting exception. Falling back to standard exception\n"
     ]
    },
    {
     "name": "stderr",
     "output_type": "stream",
     "text": [
      "Traceback (most recent call last):\n",
      "  File \"C:\\Users\\Hulbert\\anaconda3\\envs\\EE216B_playground\\lib\\site-packages\\IPython\\core\\interactiveshell.py\", line 3397, in run_code\n",
      "    exec(code_obj, self.user_global_ns, self.user_ns)\n",
      "  File \"C:\\Users\\Hulbert\\AppData\\Local\\Temp\\ipykernel_11528\\1289692831.py\", line -1, in <cell line: 1>\n",
      "KeyboardInterrupt\n",
      "\n",
      "During handling of the above exception, another exception occurred:\n",
      "\n",
      "Traceback (most recent call last):\n",
      "  File \"C:\\Users\\Hulbert\\anaconda3\\envs\\EE216B_playground\\lib\\site-packages\\IPython\\core\\interactiveshell.py\", line 1992, in showtraceback\n",
      "    stb = self.InteractiveTB.structured_traceback(\n",
      "  File \"C:\\Users\\Hulbert\\anaconda3\\envs\\EE216B_playground\\lib\\site-packages\\IPython\\core\\ultratb.py\", line 1118, in structured_traceback\n",
      "    return FormattedTB.structured_traceback(\n",
      "  File \"C:\\Users\\Hulbert\\anaconda3\\envs\\EE216B_playground\\lib\\site-packages\\IPython\\core\\ultratb.py\", line 1012, in structured_traceback\n",
      "    return VerboseTB.structured_traceback(\n",
      "  File \"C:\\Users\\Hulbert\\anaconda3\\envs\\EE216B_playground\\lib\\site-packages\\IPython\\core\\ultratb.py\", line 865, in structured_traceback\n",
      "    formatted_exception = self.format_exception_as_a_whole(etype, evalue, etb, number_of_lines_of_context,\n",
      "  File \"C:\\Users\\Hulbert\\anaconda3\\envs\\EE216B_playground\\lib\\site-packages\\IPython\\core\\ultratb.py\", line 818, in format_exception_as_a_whole\n",
      "    frames.append(self.format_record(r))\n",
      "  File \"C:\\Users\\Hulbert\\anaconda3\\envs\\EE216B_playground\\lib\\site-packages\\IPython\\core\\ultratb.py\", line 736, in format_record\n",
      "    result += ''.join(_format_traceback_lines(frame_info.lines, Colors, self.has_colors, lvals))\n",
      "  File \"C:\\Users\\Hulbert\\anaconda3\\envs\\EE216B_playground\\lib\\site-packages\\stack_data\\utils.py\", line 145, in cached_property_wrapper\n",
      "    value = obj.__dict__[self.func.__name__] = self.func(obj)\n",
      "  File \"C:\\Users\\Hulbert\\anaconda3\\envs\\EE216B_playground\\lib\\site-packages\\stack_data\\core.py\", line 698, in lines\n",
      "    pieces = self.included_pieces\n",
      "  File \"C:\\Users\\Hulbert\\anaconda3\\envs\\EE216B_playground\\lib\\site-packages\\stack_data\\utils.py\", line 145, in cached_property_wrapper\n",
      "    value = obj.__dict__[self.func.__name__] = self.func(obj)\n",
      "  File \"C:\\Users\\Hulbert\\anaconda3\\envs\\EE216B_playground\\lib\\site-packages\\stack_data\\core.py\", line 649, in included_pieces\n",
      "    pos = scope_pieces.index(self.executing_piece)\n",
      "  File \"C:\\Users\\Hulbert\\anaconda3\\envs\\EE216B_playground\\lib\\site-packages\\stack_data\\utils.py\", line 145, in cached_property_wrapper\n",
      "    value = obj.__dict__[self.func.__name__] = self.func(obj)\n",
      "  File \"C:\\Users\\Hulbert\\anaconda3\\envs\\EE216B_playground\\lib\\site-packages\\stack_data\\core.py\", line 628, in executing_piece\n",
      "    return only(\n",
      "  File \"C:\\Users\\Hulbert\\anaconda3\\envs\\EE216B_playground\\lib\\site-packages\\executing\\executing.py\", line 164, in only\n",
      "    raise NotOneValueFound('Expected one value, found 0')\n",
      "executing.executing.NotOneValueFound: Expected one value, found 0\n"
     ]
    }
   ],
   "source": [
    "for row in range(0, 4000000):\n",
    "    if row % 100000 == 0:\n",
    "        print(row)\n",
    "    bs_on_line = set()\n",
    "\n",
    "    x_min = min(bxs)\n",
    "    x_max = max(bxs)\n",
    "    row_vals = set(range(0,4000001))\n",
    "\n",
    "    for idx, s_coord in enumerate(sensors):\n",
    "\n",
    "        b_x, b_y = beacons[idx]\n",
    "        s_x, s_y = s_coord\n",
    "        mh_dist = abs(b_x-s_x) + abs(b_y - s_y)\n",
    "        \n",
    "        row_range = mh_dist - abs(s_y - row_num) + 1\n",
    "        \n",
    "        if row_range > 0:\n",
    "            clear_vals = list(range(s_x-row_range+1,s_x + row_range))\n",
    "            for v in clear_vals:\n",
    "                if v in row_vals:\n",
    "                    row_vals.remove(v)\n",
    "    if len(row_vals) != 0:\n",
    "        print('Right here!', 4000000*row_vals[0] + row)   "
   ]
  },
  {
   "cell_type": "code",
   "execution_count": null,
   "metadata": {},
   "outputs": [],
   "source": []
  }
 ],
 "metadata": {
  "kernelspec": {
   "display_name": "Python 3 (ipykernel)",
   "language": "python",
   "name": "python3"
  },
  "language_info": {
   "codemirror_mode": {
    "name": "ipython",
    "version": 3
   },
   "file_extension": ".py",
   "mimetype": "text/x-python",
   "name": "python",
   "nbconvert_exporter": "python",
   "pygments_lexer": "ipython3",
   "version": "3.10.4"
  }
 },
 "nbformat": 4,
 "nbformat_minor": 4
}
