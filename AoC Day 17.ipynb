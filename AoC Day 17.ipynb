{
 "cells": [
  {
   "cell_type": "markdown",
   "metadata": {},
   "source": [
    "## First Attempt"
   ]
  },
  {
   "cell_type": "code",
   "execution_count": 1,
   "metadata": {},
   "outputs": [],
   "source": [
    "from pathlib import Path\n",
    "import numpy as np\n",
    "from collections import defaultdict"
   ]
  },
  {
   "cell_type": "code",
   "execution_count": 6,
   "metadata": {},
   "outputs": [
    {
     "name": "stdout",
     "output_type": "stream",
     "text": [
      "['..##.#.#', '##....#.', '....####', '#..##...', '#..#.##.', '.#..#...', '##...##.', '.#...#..']\n"
     ]
    }
   ],
   "source": [
    "dtype = 'string'\n",
    "txt=[]\n",
    "\n",
    "f_in = Path('./Data Sets/day17data.txt')\n",
    "with open(f_in,'r') as f:\n",
    "    txt = f.read().split('\\n')\n",
    "\n",
    "if(dtype == 'int'):\n",
    "    nums = []\n",
    "    for num in txt:\n",
    "        nums.append(int(num))\n",
    "elif(dtype == 'float'):\n",
    "    nums = []\n",
    "    for num in txt:\n",
    "        nums.append(float(num))\n",
    "print(txt)\n",
    "# print(nums)"
   ]
  },
  {
   "cell_type": "code",
   "execution_count": 44,
   "metadata": {},
   "outputs": [
    {
     "name": "stdout",
     "output_type": "stream",
     "text": [
      "['.#.', '..#', '###']\n"
     ]
    }
   ],
   "source": [
    "test=[]\n",
    "\n",
    "f_in = Path('./Data Sets/test.txt')\n",
    "with open(f_in,'r') as f:\n",
    "    test = f.read().split('\\n')\n",
    "\n",
    "if(dtype == 'int'):\n",
    "    testnums = []\n",
    "    for num in test:\n",
    "        testnums.append(int(num))\n",
    "elif(dtype == 'float'):\n",
    "    testnums = []\n",
    "    for num in test:\n",
    "        testnums.append(float(num))\n",
    "print(test)\n",
    "# print(testnums)"
   ]
  },
  {
   "cell_type": "code",
   "execution_count": 15,
   "metadata": {},
   "outputs": [],
   "source": [
    "start_array = []\n",
    "for row in test:\n",
    "    start_array.append(list(row))\n",
    "no_cycles = [start_array]\n",
    "crystals = np.array(no_cycles)"
   ]
  },
  {
   "cell_type": "code",
   "execution_count": 17,
   "metadata": {},
   "outputs": [
    {
     "data": {
      "text/plain": [
       "array([[['.', '#', '.'],\n",
       "        ['.', '.', '#'],\n",
       "        ['#', '#', '#']]], dtype='<U1')"
      ]
     },
     "execution_count": 17,
     "metadata": {},
     "output_type": "execute_result"
    }
   ],
   "source": [
    "crystals"
   ]
  },
  {
   "cell_type": "code",
   "execution_count": 42,
   "metadata": {},
   "outputs": [],
   "source": [
    "def next_cycle(array):\n",
    "    depth,row,col = array.shape\n",
    "    new_array = np.ndarray(shape=(depth+2, row+2, col+2), dtype=string)\n",
    "    print(row,col,depth)\n",
    "    print(array[0][0][1])\n",
    "    print(new_array)"
   ]
  },
  {
   "cell_type": "code",
   "execution_count": 79,
   "metadata": {},
   "outputs": [],
   "source": [
    "def create_active_map(loadlist):\n",
    "    z = 0\n",
    "    active = []\n",
    "    for idx, row in enumerate(loadlist):\n",
    "        for jdx, col in enumerate(list(row)):\n",
    "            if col == '#':\n",
    "                 active.append([idx, jdx, z])\n",
    "    return active\n",
    "\n",
    "def get_adjacent_cubes(cube):\n",
    "    x,y,z = cube\n",
    "    adj_cubes = []\n",
    "    for i in range(x-1,x+2):\n",
    "        for j in range(y-1, y+2):\n",
    "            for k in range(z-1, z+2):\n",
    "                if(not (i==x and j==y and k==z)):\n",
    "                    adj_cubes.append([i,j,k])\n",
    "    return adj_cubes\n",
    "\n",
    "def complete_cycle(active_map, minvals, maxvals):\n",
    "    xmin, ymin, zmin = minvals\n",
    "    xmax, ymax, zmax = maxvals\n",
    "    new_active = []\n",
    "    for x in range(xmin-1,xmax+2):\n",
    "        for y in range(ymin-1, ymax+2):\n",
    "            for z in range(zmin-1, zmax+2):\n",
    "                coord = [x,y,z]\n",
    "                adj_cubes = get_adjacent_cubes(coord)\n",
    "                count = 0\n",
    "                for adj_cube in adj_cubes:\n",
    "                    if adj_cube in active_map:\n",
    "                        count+=1\n",
    "                if(coord in active_map and (count == 2 or count == 3)):\n",
    "                    new_active.append(coord)\n",
    "                elif( coord not in active_map and count == 3):\n",
    "                    new_active.append(coord)\n",
    "                \n",
    "#                 print(count)\n",
    "    return new_active\n",
    "\n",
    "def find_active_cubes(loadlist, cycles):\n",
    "    active_map = create_active_map(loadlist)\n",
    "    \n",
    "    minvals = [0,0,0]\n",
    "    maxvals = [7,7,0]\n",
    "    \n",
    "    for cycle in range(cycles):\n",
    "        active_map = complete_cycle(active_map, minvals, maxvals)\n",
    "        minvals = [x-1 for x in minvals]\n",
    "        maxvals = [x+1 for x in maxvals]\n",
    "    return len(active_map)"
   ]
  },
  {
   "cell_type": "code",
   "execution_count": 66,
   "metadata": {},
   "outputs": [
    {
     "data": {
      "text/plain": [
       "[[0, 1, 0], [1, 2, 0], [2, 0, 0], [2, 1, 0], [2, 2, 0]]"
      ]
     },
     "execution_count": 66,
     "metadata": {},
     "output_type": "execute_result"
    }
   ],
   "source": [
    "active_map = create_active_map(test)\n",
    "active_map"
   ]
  },
  {
   "cell_type": "code",
   "execution_count": 55,
   "metadata": {},
   "outputs": [
    {
     "name": "stdout",
     "output_type": "stream",
     "text": [
      "[[0, 1, 2], [0, 1, 3], [0, 1, 4], [0, 2, 2], [0, 2, 3], [0, 2, 4], [0, 3, 2], [0, 3, 3], [0, 3, 4], [1, 1, 2], [1, 1, 3], [1, 1, 4], [1, 2, 2], [1, 2, 4], [1, 3, 2], [1, 3, 3], [1, 3, 4], [2, 1, 2], [2, 1, 3], [2, 1, 4], [2, 2, 2], [2, 2, 3], [2, 2, 4], [2, 3, 2], [2, 3, 3], [2, 3, 4]]\n",
      "1 2 3\n"
     ]
    }
   ],
   "source": [
    "get_adjacent_cubes([1,2,3])"
   ]
  },
  {
   "cell_type": "code",
   "execution_count": 71,
   "metadata": {},
   "outputs": [
    {
     "data": {
      "text/plain": [
       "[[1, 0, -1],\n",
       " [1, 0, 0],\n",
       " [1, 0, 1],\n",
       " [1, 2, 0],\n",
       " [2, 1, 0],\n",
       " [2, 2, -1],\n",
       " [2, 2, 0],\n",
       " [2, 2, 1],\n",
       " [3, 1, -1],\n",
       " [3, 1, 0],\n",
       " [3, 1, 1]]"
      ]
     },
     "execution_count": 71,
     "metadata": {},
     "output_type": "execute_result"
    }
   ],
   "source": [
    "complete_cycle(active_map, [0,0,0],[2,2,0])"
   ]
  },
  {
   "cell_type": "code",
   "execution_count": 80,
   "metadata": {},
   "outputs": [
    {
     "data": {
      "text/plain": [
       "202"
      ]
     },
     "execution_count": 80,
     "metadata": {},
     "output_type": "execute_result"
    }
   ],
   "source": [
    "find_active_cubes(txt, 6)"
   ]
  },
  {
   "cell_type": "code",
   "execution_count": 92,
   "metadata": {},
   "outputs": [],
   "source": [
    "def create_active_map2(loadlist):\n",
    "    z = 0\n",
    "    w = 0\n",
    "    active = []\n",
    "    for idx, row in enumerate(loadlist):\n",
    "        for jdx, col in enumerate(list(row)):\n",
    "            if col == '#':\n",
    "                 active.append([idx, jdx, z, w])\n",
    "    return active\n",
    "\n",
    "def get_adjacent_cubes2(cube):\n",
    "    x,y,z,w = cube\n",
    "    adj_cubes = []\n",
    "    for i in range(x-1,x+2):\n",
    "        for j in range(y-1, y+2):\n",
    "            for k in range(z-1, z+2):\n",
    "                for l in range(w-1,w+2):\n",
    "                    if(not (i==x and j==y and k==z and l==w)):\n",
    "                        adj_cubes.append([i,j,k,l])\n",
    "    return adj_cubes\n",
    "\n",
    "def complete_cycle2(active_map, minvals, maxvals):\n",
    "    xmin, ymin, zmin, wmin = minvals\n",
    "    xmax, ymax, zmax, wmax = maxvals\n",
    "    new_active = []\n",
    "    for x in range(xmin-1,xmax+2):\n",
    "        for y in range(ymin-1, ymax+2):\n",
    "            for z in range(zmin-1, zmax+2):\n",
    "                for w in range(wmin-1, wmax+2):\n",
    "                    coord = [x,y,z,w]\n",
    "                    adj_cubes = get_adjacent_cubes(coord)\n",
    "                    count = 0\n",
    "                    for adj_cube in adj_cubes:\n",
    "                        if adj_cube in active_map:\n",
    "                            count+=1\n",
    "                    if(coord in active_map and (count == 2 or count == 3)):\n",
    "                        new_active.append(coord)\n",
    "                    elif(coord not in active_map and count == 3):\n",
    "                        new_active.append(coord)\n",
    "                \n",
    "#                 print(count)\n",
    "    return new_active\n",
    "\n",
    "def find_active_cubes2(loadlist, cycles):\n",
    "    active_map = create_active_map(loadlist)\n",
    "    \n",
    "    minvals = [0,0,0,0]\n",
    "    maxvals = [7,7,0,0]\n",
    "    \n",
    "    for cycle in range(cycles):\n",
    "        active_map = complete_cycle(active_map, minvals, maxvals)\n",
    "        minvals = [x-1 for x in minvals]\n",
    "        maxvals = [x+1 for x in maxvals]\n",
    "        print('Cycle', cycle, 'complete!')\n",
    "    return len(active_map)"
   ]
  },
  {
   "cell_type": "code",
   "execution_count": 93,
   "metadata": {},
   "outputs": [
    {
     "name": "stdout",
     "output_type": "stream",
     "text": [
      "Cycle 0 complete!\n",
      "Cycle 1 complete!\n",
      "Cycle 2 complete!\n",
      "Cycle 3 complete!\n",
      "Cycle 4 complete!\n",
      "Cycle 5 complete!\n"
     ]
    },
    {
     "data": {
      "text/plain": [
       "2028"
      ]
     },
     "execution_count": 93,
     "metadata": {},
     "output_type": "execute_result"
    }
   ],
   "source": [
    "find_active_cubes2(txt, 6)"
   ]
  },
  {
   "cell_type": "code",
   "execution_count": null,
   "metadata": {},
   "outputs": [],
   "source": []
  }
 ],
 "metadata": {
  "kernelspec": {
   "display_name": "Python 3",
   "language": "python",
   "name": "python3"
  },
  "language_info": {
   "codemirror_mode": {
    "name": "ipython",
    "version": 3
   },
   "file_extension": ".py",
   "mimetype": "text/x-python",
   "name": "python",
   "nbconvert_exporter": "python",
   "pygments_lexer": "ipython3",
   "version": "3.8.3"
  }
 },
 "nbformat": 4,
 "nbformat_minor": 4
}
