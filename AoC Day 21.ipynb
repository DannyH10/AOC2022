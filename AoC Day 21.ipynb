{
 "cells": [
  {
   "cell_type": "markdown",
   "metadata": {},
   "source": [
    "## First Attempt"
   ]
  },
  {
   "cell_type": "code",
   "execution_count": 1,
   "metadata": {},
   "outputs": [],
   "source": [
    "from pathlib import Path\n",
    "import numpy as np\n",
    "from collections import defaultdict\n",
    "import re"
   ]
  },
  {
   "cell_type": "code",
   "execution_count": 3,
   "metadata": {},
   "outputs": [
    {
     "name": "stdout",
     "output_type": "stream",
     "text": [
      "['mxc ssdszsn phc llj nhnd fqqcnm njrcfg mrczqmj zfnttf tqkfx zvq rftbr jgbk kmlkx tzdks czvphx qpbl fzlrf zmsdzh qfslcb psqc rfx vnjxs lkgln sqhvzg qzjrtl hfzqf qhtvsr zdthsvl cgflg nggbtk mxq rdkrtr djdhrn nkzqj lcrs mhrlx hpbnj blvfz djhj ssrgt lpvfv fslqkg rzcps njdb jbtlfv cncpbssj lsgqf hbdv gbhjv drtdz flndv gpjr xqgb xvjk zjbgp rjc bfnnnrn gcptp prksl xdcp pdt xtgjslz fgptl kdm njqrhcc nqvnn lxldx spnd nlqhlsn tcclbr gpqgkt jfrlp hddd bmqzgvr rfxgl fgsr hjvzcp mxzb hqd (contains eggs, fish, peanuts)', 'zcphr pcslhrg strpjp hbbgk nqvnn rtq jqzklv fnlk mhrlx fgsr bvlb gpqgkt fqqcnm dhsssf pdhlzg dchvb njdb rms zppxp pdt nfgr th jbz tktj rtpff xvjk fqtc ldrgj jbtlfv hzmk tqkfx nppxr qzjrtl nlqhlsn qfslcb xbvrx jhv ssrgt xqgb nbgv kmlkx chgjqc nthsf vhjgg mcl fzlrf lzvh pmhhqrk hjzkg lpvfv jgbk xsk blvfz thtlt nfck lftqn mxq flndv lsgqf njqrhcc mrczqmj nnskqnmn rjc zfnttf sqhvzg rfxgl zmsdzh rxd zbxj phc rtmfg bfnnnrn kdm dfcgd (contains peanuts)', 'vhjpjdr nxrgp pdj njdb fgsr zmsdzh fctmvrs dfcgd nnskqnmn cvbc rxd th fgptl fqqcnm xqgb nkzqj dkg phc qpbl dgxnc fnlk llj tktj nlqhlsn bkzbrm lzvh rfgf fgcd nppxr vxmrk mhrlx pcslhrg czvphx hfzqf dxrsgs jbz dxdrk chgjqc tqkfx nfgr snzxr frxmq hjzkg mgv lsgqf jhbnm rjc xtgjslz sxsxm gvdstsc pdt lpvfv zbxj (contains wheat, dairy)', 'xdcp njrcfg blvfz kdbxxzv tcclbr jhbnm rlgr njqrhcc nggbtk rntk phc zmsdzh lxldx qfslcb psqc mzrx ggrc hqd mrczqmj jp mxq sqhvzg bggmsj mcl gcptp jgbk tzdks hbbgk llj smdlg tqkfx pdt jqgm jhv vnjxs gcpks cqqcd hrnvd rjc rfgf jlrt bvlb njdb rdkrtr dxrsgs czvphx flndv nppxr gvdstsc nlqhlsn hdtr gpqgkt fgcd lzvh bvcxfp dchvb spnd jsh gbhjv vhjgg bjcvpc prbk rng zvq nthsf kjjst pdj zdthsvl pdhlzg lsgqf mgv vbkb ssrgt jxvx (contains nuts, dairy)', 'jqgm prksl psqc lftqn jlrt jqzklv fppgp ldrgj cgflg xsk gpqgkt rjc sfkcp zmsdzh njqrhcc nppxr tcclbr snzxr hbdv npftghk phc hbmvpmt bjcvpc czmml bkzbrm ggrc pdt blvfz spnd smdlg mbmtz gcptp hpbnj jbz lsgqf czkfv gqnxlr nhnd chgjqc rzcps jhv fnlk gcpks nlqhlsn fslqkg rsr hjvzcp cvbc rdkrtr zdthsvl nxrgp hjzkg vbkb nfgr fgcd tktj czvphx qhtvsr hcjkd qfslcb hqd fqqcnm nhzthvn sxsxm (contains fish, sesame, soy)', 'zmsdzh dxrsgs qrpzt tzdks bggmsj chgjqc cgflg sxsxm zppxp jbtlfv bvcxfp pdj hbmvpmt fzlrf lxldx llj dgxnc hfzqf hqzcncv gbhjv spnd phc hjzkg dhsssf fqtc xtgjslz nfck thtlt tcclbr xdcp djdhrn zjbgp nhnd kdm ksrjn mxq rng pdt dxdrk rtpff sqhvzg ldrgj kjjst rjc jp lsgqf flndv ggrc njqrhcc gpqgkt mrczqmj mxc rftbr psqc lzvh nmps (contains soy)', 'jfrlp hqd mxq fnlk cncpbssj nnskqnmn rzcps hbmvpmt pdt zmsdzh pfrqf zfnttf zjbgp dchvb jp mzbgp phc qpbl qdkk nqvnn rsr xbvrx sfkcp cqqcd cgflg dhsssf rlgr vnbfvkp hrnvd lsgqf ldrgj nxrgp qzjrtl czmml nthsf fqqcnm kmlkx lpm xvjk nbgv rfx fctmvrs qjhq njdb pdhlzg xsk rbjmdn tzdks spnd chgjqc bvlb jqzklv lzvh jxvx rxd kjjst jvhsj vxmrk (contains dairy, peanuts)', 'njqrhcc mxc mgv phc fzlrf spnd jvhsj kmlkx cldgd fgsr vnjxs ksrjn fqtc qjhq nfgr bmqzgvr pdhlzg frxmq gcptp rdjdq vbkb fgptl npftghk dxrsgs fgcd qdkk qzjrtl lpvfv hfzqf fqqcnm lzvh hpbnj hzmk jqzklv ktnlk tktj vhjpjdr llj fppgp zmsdzh hjzkg jbz cqqcd rtq hbdv njrcfg fslqkg jfrlp smdlg dhsssf qhtvsr rjc lsgqf jhv rftbr xgpdnz (contains wheat, dairy, eggs)', 'zmsdzh sjpzc tkhzz kdbxxzv tqkfx fslqkg rtpff nbgv prksl nxrgp pdt zfnttf qdkk rjc vnbfvkp nppxr fppgp spnd bkzbrm rftbr mzbgp llj nfgr xtgjslz lpvfv zjbgp fctmvrs zgvtn xfn nvmm rntk jhbnm frxmq strpjp cqqcd phc dfcgd nggbtk kdm sxsxm gbhjv cldgd qjhq th jlrt rdjdq mzrx hqd jsh vhjgg nlqhlsn vxmrk zcphr lzvh mcl dhsssf bggmsj kjjst fqqcnm (contains nuts, dairy)', 'zbxj jlrt lxldx jqgm zfnttf rdkrtr smdlg mcl fctmvrs vhjgg vbkb fqtc nlqhlsn czmml bxqpgx hpbnj fzlrf spnd pdj flndv phc pdt rzcps mzbgp gcpks ldrgj rtmfg zjbgp lzvh hjvzcp rfxgl czkfv gpqgkt bkzbrm jhbnm dxrsgs xdcp hbdv xvjk lpm lkgln gqnxlr kmlkx nfgr jbtlfv fgsr prksl jfrlp nthsf drtdz dfcgd dgxnc dhsssf rjc tkhzz tktj xgpdnz zmsdzh nhzthvn fslqkg bmqzgvr hrnvd lsgqf bjcvpc mbmtz mxc nbgv th bggmsj nqvnn nnskqnmn mxq rlgr rtpff kjjst pfrqf (contains nuts, soy)', 'tktj jbz rbjmdn zcphr fqqcnm djdhrn smdlg nkzqj qdkk vnbfvkp rtmfg fnlk jqgm tkhzz rdkrtr hpbnj nhzthvn rjc czkfv lftqn cldgd fgsr rfxgl lkgln bvpxc lsgqf kdm blvfz spnd nlqhlsn xvjk nmps lzvh nvmm snzxr psqc vnjxs sfkcp pdt rfgf gcptp zdthsvl mrczqmj hqzcncv pcslhrg djhj hqd bggmsj nfck hdtr bxqpgx jsh rtpff jqzklv qlkfvk phc jfrlp strpjp (contains dairy, wheat, peanuts)', 'hbmvpmt psqc pfrqf gvdstsc chgjqc cgflg pdhlzg gcptp nmps tktj frxmq mzbgp pdt mcl fppgp jqzklv mhrlx ssrgt tcclbr rzcps nhzthvn rjc rfxgl fqqcnm gqnxlr gpqgkt fgsr hqzcncv spnd nbgv nhnd mxc xtgjslz nfgr vbkb zjbgp jgbk nppxr rfgf dxrsgs nqvnn hfzqf gcpks jlrt rdkrtr rntk rlgr rxd kjjst flndv lxldx phc jqgm zmsdzh hrnvd zdthsvl drtdz rfx qpbl lzvh xbvrx gpjr hbdv tzdks blvfz smdlg gbhjv pmhhqrk nnskqnmn rtq prksl qfslcb ggrc nthsf bggmsj zppxp (contains eggs, fish)', 'nthsf pmhhqrk gpjr zmsdzh jhv zfnttf vhjpjdr rtmfg cvbc nvmm vbkb bmqzgvr lftqn prksl rjc bfnnnrn qzjrtl pdj hrnvd jbtlfv mgv kdm xtgjslz nkzqj mhrlx fgcd kmlkx qrpzt xfn rntk fppgp fqqcnm dgxnc nggbtk bjcvpc nppxr qfslcb fctmvrs pdt njqrhcc rdkrtr ldrgj rfxgl jgbk spnd phc rfx lkgln rtq xdcp jhbnm prbk jqhn hfzqf mxc rms mxzb rtpff tqkfx fslqkg jbz hbmvpmt hbdv rfgf lzvh (contains fish)', 'gcpks mrczqmj rtq gpjr npftghk hbbgk lxldx xtgjslz njrcfg hjvzcp kdm jp sfkcp bvcxfp xdcp nqvnn tkhzz czvphx ssdszsn xvjk zmsdzh chgjqc rdkrtr hqd qrpzt mbmtz frxmq pdt zppxp nmps hdtr dfcgd nbgv gbhjv th rsr lsgqf fqqcnm rjc cldgd flndv bjcvpc zfnttf zgvtn rms fslqkg phc rtpff hjzkg rlgr dxrsgs nvmm zcphr rxd nxrgp zdthsvl jhbnm jqhn qfslcb lftqn psqc czkfv pcslhrg fqtc xsk nnskqnmn mxq qdkk spnd lcrs ksrjn kmlkx ldrgj nfgr nlqhlsn cvbc djhj thtlt bmqzgvr lpvfv qpbl xqgb (contains dairy, soy, peanuts)', 'prbk thtlt fqqcnm rjc tkhzz hcjkd blvfz xvjk njrcfg nnskqnmn xfn xdcp czkxlg hzmk bvlb ssdszsn xsk mbmtz spnd zjbgp lzvh lsgqf rtq kjjst xgpdnz bxqpgx czmml gpjr ggrc ktnlk jbtlfv pmhhqrk nkzqj phc zbxj fzlrf dgxnc lcrs xbvrx rdkrtr rfxgl hqd gbhjv vbkb pdt nfck qdkk jlrt (contains soy, nuts)', 'qhtvsr mxc prksl jhv cvbc dkg drtdz gpqgkt jbtlfv rdkrtr qfslcb phc ssdszsn dchvb fppgp djdhrn tktj tkhzz jbz njqrhcc dhsssf lftqn mrczqmj jgbk lcrs hrnvd fqqcnm jqzklv rfx hjvzcp czkxlg pcslhrg kdbxxzv zvq spnd qzjrtl lzvh vxmrk hbmvpmt bxqpgx zmsdzh qdkk pfrqf jsh strpjp th njdb pdt sjpzc bfnnnrn lxldx nbgv hbbgk rjc (contains fish)', 'sfkcp njqrhcc xvjk lpm rfgf fctmvrs spnd djdhrn nhnd zmsdzh njrcfg gvdstsc zjbgp nthsf prbk njdb jqzklv hdtr dxrsgs phc thtlt nppxr mxc fqqcnm gbhjv lcrs mzrx pdhlzg frxmq hbmvpmt nggbtk rdkrtr zdthsvl smdlg nfck nhzthvn pdt dkg xqgb bmqzgvr sjpzc qfslcb hjzkg llj nqvnn rjc lzvh rtq kmlkx hzmk rfx xbvrx fgptl (contains nuts, fish, peanuts)', 'xgpdnz hqzcncv tkhzz lpvfv hpbnj fgsr zbxj rjc rms rntk ssdszsn tktj bvlb snzxr hrnvd xbvrx rxd rfxgl spnd mrczqmj gcpks cgflg lzvh zjbgp hzmk rng lpm rdjdq hdtr fqqcnm zmsdzh fctmvrs qzjrtl gbhjv nvmm zdthsvl blvfz xvjk lsgqf jvhsj cvbc phc jqgm jqzklv gpjr nbgv gqnxlr xfn zcphr (contains fish, eggs, sesame)', 'pmhhqrk vhjpjdr rjc lcrs xvjk lpm dxdrk rtq vhjgg gbhjv lzvh vbkb pdt njdb fgcd bxqpgx npftghk ktnlk sqhvzg rlgr bvpxc ssrgt jbtlfv gpjr hfzqf fgsr xqgb bggmsj nmps lxldx djhj nppxr jhbnm pcslhrg mgv jgbk nlqhlsn fqtc qrpzt jfrlp mzbgp fnlk nvmm cgflg ggrc kdm zppxp nnskqnmn jqgm fctmvrs hrnvd vnbfvkp rtmfg nxrgp phc ssdszsn xbvrx rzcps rftbr ldrgj hdtr mrczqmj rtpff lkgln zgvtn hbdv czvphx spnd qpbl zvq zmsdzh rbjmdn tqkfx rdjdq tkhzz dchvb rfxgl fqqcnm (contains soy, nuts, eggs)', 'bvpxc chgjqc bggmsj rfgf qpbl fgcd bmqzgvr frxmq tktj lsgqf mxzb mzbgp bxqpgx gvdstsc rzcps hbbgk drtdz vhjgg fqqcnm rntk mbmtz spnd vxmrk thtlt nhzthvn mgv jp cncpbssj sqhvzg lftqn nmps lpm nggbtk hdtr xvjk pdt kdbxxzv qlkfvk zmsdzh fzlrf cldgd jqhn ktnlk npftghk prbk qhtvsr smdlg hqzcncv gqnxlr nthsf nvmm zvq nnskqnmn mhrlx rtq phc xtgjslz qrpzt gcptp rfx mxq hjvzcp rjc lkgln zgvtn xqgb (contains nuts)', 'mcl xvjk xsk sjpzc rsr zmsdzh zjbgp drtdz zcphr zvq jhv qfslcb fzlrf lcrs tqkfx rfgf prbk xqgb rjc spnd dchvb tcclbr strpjp flndv njqrhcc hfzqf pdt dkg lzvh gcpks hjvzcp lsgqf fgptl mzbgp sxsxm nvmm phc rng frxmq dxrsgs nnskqnmn nhnd bvcxfp (contains nuts, eggs)', 'rtq jfrlp dchvb fppgp jp xtgjslz sfkcp zppxp rzcps spnd mbmtz llj rbjmdn rsr nbgv lsgqf jqzklv mxc lxldx hdtr njrcfg phc gbhjv nthsf dkg nhnd lcrs fqqcnm hcjkd fgptl dfcgd dxdrk pdt nlqhlsn zmsdzh hbbgk pmhhqrk rjc pdhlzg dgxnc zfnttf jbtlfv nmps bmqzgvr fgcd jhbnm flndv hzmk chgjqc dhsssf nnskqnmn cldgd (contains nuts, peanuts)', 'sjpzc cvbc zcphr gpqgkt lsgqf ggrc rtmfg hrnvd cldgd ssdszsn tktj chgjqc zjbgp spnd njqrhcc hjvzcp mkxbf dgxnc ldrgj dxdrk nqvnn mzbgp ssrgt mbmtz nfgr jp pdhlzg hbdv gcpks xtgjslz sqhvzg ksrjn mcl zmsdzh fppgp dxrsgs blvfz lftqn jhv czvphx jlrt lpm bjcvpc jvhsj pdt zppxp bvlb zvq djdhrn nggbtk phc qfslcb tqkfx nmps nppxr jxvx rzcps vhjpjdr bvpxc snzxr lzvh fqqcnm qrpzt sxsxm (contains wheat, fish)', 'strpjp dxrsgs qlkfvk cgflg sxsxm hpbnj lsgqf mgv prbk prksl zmsdzh rtpff xfn czkfv dgxnc nfck ldrgj cncpbssj pfrqf zppxp bggmsj qzjrtl xvjk kjjst mbmtz sjpzc lftqn lkgln mxc rtmfg rdjdq hqzcncv jqgm psqc nxrgp hzmk rntk rms th kdm nthsf hjzkg dkg sqhvzg zvq gpqgkt qrpzt pdt zcphr rfxgl mrczqmj jbtlfv ssdszsn blvfz bvlb dfcgd nmps thtlt fqqcnm jp zfnttf fnlk frxmq rlgr hbbgk vbkb xgpdnz vhjgg czvphx vxmrk fgptl cldgd lpvfv lcrs pdhlzg hddd spnd phc pcslhrg rjc (contains eggs, peanuts, dairy)', 'zfnttf spnd rfx vbkb sfkcp tkhzz zmsdzh rfxgl dgxnc lsgqf sqhvzg phc bvpxc rlgr dxrsgs pdt vnbfvkp lftqn rfgf hcjkd fgsr nkzqj xgpdnz pmhhqrk tqkfx dfcgd cncpbssj rdkrtr qlkfvk blvfz xsk nfgr rsr czmml rtq bvcxfp kmlkx zdthsvl hzmk rjc xvjk gcpks tktj xfn prbk kdbxxzv fqqcnm mxc hjvzcp jp (contains peanuts)', 'nfck nnskqnmn rtpff sqhvzg lsgqf dfcgd hcjkd cvbc fzlrf bvpxc rftbr dgxnc jlrt cncpbssj cgflg fslqkg pdt nbgv xdcp nqvnn rsr jxvx hqzcncv mrczqmj gpjr fqqcnm zmsdzh cldgd qfslcb czkfv bfnnnrn prbk fqtc zjbgp qhtvsr rdkrtr bvcxfp tkhzz rfx smdlg nggbtk mzbgp qpbl nvmm th snzxr gbhjv rng vxmrk mbmtz mhrlx blvfz rzcps qrpzt nhnd lxldx gcptp zgvtn njdb kjjst mcl npftghk rjc jqhn cqqcd prksl lzvh phc vnbfvkp psqc jgbk zvq hfzqf (contains nuts, fish)', 'hcjkd rzcps fnlk fzlrf dgxnc cqqcd hbdv jvhsj lsgqf rxd bvcxfp lpvfv qpbl mrczqmj jqgm mxq jqhn hfzqf zmsdzh rjc lzvh nfgr vhjgg rntk rbjmdn ssdszsn tktj pdhlzg sqhvzg tqkfx czkxlg rfxgl gpqgkt njdb dkg strpjp zdthsvl nbgv lkgln vnbfvkp rfgf pcslhrg fppgp bmqzgvr hqzcncv rng dfcgd xbvrx qdkk hzmk vhjpjdr qlkfvk rms gqnxlr hdtr jlrt kdm sjpzc qhtvsr bvlb nppxr pdt vxmrk fqqcnm jxvx qrpzt thtlt zgvtn phc ksrjn fslqkg (contains soy, peanuts, fish)', 'rsr hfzqf fctmvrs zjbgp qdkk qjhq rfx hqzcncv nfgr nhzthvn xbvrx jhbnm pdt rng rdjdq pdj nnskqnmn jhv bfnnnrn kdm cldgd nppxr nthsf lzvh czvphx vhjgg hdtr mbmtz mgv jbz mhrlx fppgp rlgr ssrgt jvhsj tktj fqqcnm zbxj nvmm qzjrtl czmml ggrc zmsdzh tkhzz dxdrk jp mrczqmj phc kmlkx jqzklv nhnd rftbr thtlt pcslhrg hbmvpmt jsh nmps nggbtk rtq nqvnn lkgln snzxr xdcp fqtc lsgqf spnd mxzb llj gbhjv (contains fish)', 'spnd rng lsgqf nkzqj gbhjv mhrlx mcl hzmk sfkcp bfnnnrn qpbl dkg dxdrk nmps kdm djdhrn xbvrx rlgr tcclbr drtdz fqqcnm dhsssf gcptp kdbxxzv zcphr vnjxs mrczqmj rms kjjst bvlb fgsr bkzbrm jhv gpqgkt ssdszsn qjhq th zmsdzh kmlkx rjc hqzcncv rxd mxc jhbnm nggbtk bjcvpc njrcfg lftqn jbz jqhn jbtlfv hbmvpmt rsr nqvnn pdhlzg rzcps hdtr nnskqnmn rntk ssrgt qrpzt llj thtlt mbmtz mxzb pdt hfzqf nxrgp zdthsvl lxldx lzvh (contains peanuts)', 'rfgf hddd rng ssrgt tzdks zjbgp blvfz spnd lzvh ldrgj fqqcnm fnlk bvcxfp gcptp dkg bfnnnrn zfnttf kdbxxzv gpjr rntk jsh nxrgp njdb xtgjslz dhsssf dxdrk lpm nnskqnmn lcrs mzrx nvmm jp prksl rzcps xgpdnz czmml rbjmdn mxq qhtvsr dgxnc bxqpgx mbmtz nmps bmqzgvr dfcgd pdt xbvrx njrcfg rfx fppgp fgptl fzlrf qrpzt zmsdzh cncpbssj tkhzz phc mkxbf rjc njqrhcc cqqcd tqkfx mxc nhzthvn hzmk pdj (contains fish)', 'rms qrpzt hbbgk sxsxm dchvb jqhn gcptp xqgb psqc fctmvrs nlqhlsn tktj rntk qfslcb xdcp rfxgl fqqcnm jlrt zgvtn fgcd bvlb cvbc xbvrx rdkrtr rlgr prbk zmsdzh ssrgt phc tcclbr lpvfv djhj rsr rfx blvfz lzvh gpqgkt hpbnj bfnnnrn dxdrk nmps cncpbssj hjzkg hrnvd hbdv dgxnc hdtr rjc rdjdq jxvx qpbl zvq rtmfg jhbnm vhjpjdr nvmm lsgqf czkxlg pdt prksl xgpdnz rbjmdn gcpks fgsr zjbgp frxmq (contains soy, fish, peanuts)', 'drtdz nbgv hcjkd mxq sqhvzg xfn nfck phc gcptp hdtr nnskqnmn tqkfx rfxgl jqhn lpvfv blvfz czkxlg djhj lsgqf bggmsj flndv kmlkx mxzb czmml vnjxs spnd dchvb lzvh fzlrf bkzbrm xbvrx prbk ksrjn rxd fqqcnm xgpdnz pdt jfrlp bvpxc fgptl ktnlk njdb zmsdzh (contains nuts, wheat, fish)', 'vxmrk fqqcnm rlgr prbk fgsr tktj gqnxlr ssrgt phc rng gcpks mzrx dxdrk njqrhcc czmml cgflg qjhq vnjxs prksl ktnlk tcclbr qhtvsr sjpzc bggmsj nhzthvn zmsdzh ggrc jp rfgf rtpff zcphr lsgqf spnd blvfz rjc tkhzz sxsxm xfn pdt xqgb mrczqmj zdthsvl jhbnm bvcxfp ssdszsn djhj npftghk (contains nuts, eggs, sesame)', 'sfkcp bvpxc rfgf bjcvpc bggmsj jbz zppxp gpqgkt mgv lzvh qjhq hbbgk mrczqmj zmsdzh rlgr cvbc qzjrtl rbjmdn mxc czmml fqqcnm hfzqf jfrlp nhzthvn fctmvrs lftqn tcclbr djdhrn rjc cgflg spnd sjpzc phc pmhhqrk fslqkg flndv hzmk nvmm jp prksl dkg gcptp pdt (contains fish)', 'dchvb nppxr njdb fqqcnm hbbgk strpjp bvcxfp nhnd rjc hpbnj tkhzz jqzklv spnd vbkb jqgm phc pdt bxqpgx kdbxxzv zmsdzh xgpdnz rfxgl kdm drtdz nhzthvn ldrgj rdkrtr thtlt cvbc mhrlx bggmsj hjvzcp sjpzc nbgv gcptp hqd lcrs hddd djhj ssdszsn tqkfx xtgjslz mzbgp rdjdq nnskqnmn hqzcncv hjzkg jfrlp mxq nmps pmhhqrk pdj th fgcd psqc lsgqf gcpks xfn fgptl nfck mkxbf mbmtz rxd blvfz ggrc zppxp mcl ksrjn zbxj nkzqj hbdv lpm dxdrk zcphr qhtvsr pcslhrg tktj (contains sesame)', 'lzvh psqc rjc nhzthvn tqkfx lcrs pfrqf lkgln spnd nhnd pmhhqrk lxldx hqd dchvb zvq vnbfvkp mcl rsr rdkrtr hpbnj rfgf fzlrf ssrgt phc djdhrn fppgp rftbr xqgb hbdv vbkb tktj jqgm sfkcp pdt bggmsj bmqzgvr zfnttf jbtlfv nxrgp flndv sxsxm lsgqf zbxj dfcgd nmps mxc bvpxc rbjmdn gbhjv dxrsgs sjpzc jp fgcd zmsdzh jhbnm vxmrk bjcvpc zcphr gqnxlr njdb nvmm jqzklv kdbxxzv jsh xtgjslz gcpks rntk qpbl djhj lftqn ldrgj xfn hdtr tzdks tcclbr gcptp nnskqnmn (contains eggs, soy)', 'gpqgkt lftqn frxmq dchvb hbdv gvdstsc djdhrn ssrgt drtdz rjc gpjr jvhsj rfxgl hqd spnd rtpff mzrx qfslcb cgflg jqhn strpjp zcphr xtgjslz lsgqf pcslhrg smdlg czmml nqvnn fqtc qpbl dkg phc xfn fgsr fppgp dgxnc cqqcd qzjrtl ggrc lkgln ksrjn nvmm qdkk rxd jlrt jhbnm nhnd lpm hjvzcp bfnnnrn pmhhqrk rdjdq hcjkd czvphx xbvrx zgvtn dxrsgs fqqcnm zmsdzh njqrhcc lzvh rzcps fzlrf (contains sesame, soy)', 'jgbk gvdstsc spnd rtmfg psqc njdb drtdz thtlt dxrsgs cldgd hjvzcp nggbtk dfcgd nppxr mbmtz gcpks rdjdq lzvh czvphx rjc vnbfvkp mhrlx frxmq bfnnnrn kmlkx qpbl lsgqf ldrgj qrpzt jp bvpxc phc zmsdzh jbtlfv nhzthvn rsr jxvx th rzcps kdbxxzv xgpdnz nqvnn rdkrtr pmhhqrk pdt prbk rbjmdn fgptl gpjr zbxj czmml tqkfx xdcp njqrhcc cncpbssj chgjqc fgcd (contains nuts, dairy, eggs)']\n"
     ]
    }
   ],
   "source": [
    "dtype = 'string'\n",
    "txt=[]\n",
    "\n",
    "f_in = Path('./Data Sets/day21data.txt')\n",
    "with open(f_in,'r') as f:\n",
    "    txt = f.read().split('\\n')\n",
    "\n",
    "if(dtype == 'int'):\n",
    "    nums = []\n",
    "    for num in txt:\n",
    "        nums.append(int(num))\n",
    "elif(dtype == 'float'):\n",
    "    nums = []\n",
    "    for num in txt:\n",
    "        nums.append(float(num))\n",
    "print(txt)\n",
    "# print(nums)"
   ]
  },
  {
   "cell_type": "code",
   "execution_count": 4,
   "metadata": {},
   "outputs": [
    {
     "name": "stdout",
     "output_type": "stream",
     "text": [
      "['mxmxvkd kfcds sqjhc nhms (contains dairy, fish)', 'trh fvjkl sbzzf mxmxvkd (contains dairy)', 'sqjhc fvjkl (contains soy)', 'sqjhc mxmxvkd sbzzf (contains fish)']\n"
     ]
    }
   ],
   "source": [
    "test=[]\n",
    "\n",
    "f_in = Path('./Data Sets/test2.txt')\n",
    "with open(f_in,'r') as f:\n",
    "    test = f.read().split('\\n')\n",
    "\n",
    "if(dtype == 'int'):\n",
    "    testnums = []\n",
    "    for num in test:\n",
    "        testnums.append(int(num))\n",
    "elif(dtype == 'float'):\n",
    "    testnums = []\n",
    "    for num in test:\n",
    "        testnums.append(float(num))\n",
    "print(test)\n",
    "# print(testnums)"
   ]
  },
  {
   "cell_type": "code",
   "execution_count": 100,
   "metadata": {},
   "outputs": [],
   "source": [
    "def parse_file(file):\n",
    "    # create summary lists\n",
    "    ingred_list = []\n",
    "    allergen_list = []\n",
    "    all_ingreds = set()\n",
    "    all_allergens = set()\n",
    "    allergen_dict = defaultdict(list)\n",
    "    # loop through rows in file\n",
    "    for row in file:\n",
    "        \n",
    "        # parse list from file\n",
    "        ingreds, allergens = row[:-1].split(' (contains ')\n",
    "        ingreds = ingreds.split()\n",
    "        allergens = allergens.split(', ')\n",
    "        \n",
    "        # add to summary lists\n",
    "        all_ingreds.update(ingreds)\n",
    "        all_allergens.update(allergens)\n",
    "        ingred_list.append(ingreds)\n",
    "        allergen_list.append(allergens)\n",
    "        \n",
    "        # loop through allergens and add ingredients for food with allergen\n",
    "        for alg in allergens:\n",
    "            allergen_dict[alg].append(ingreds)\n",
    "    return [ingred_list, allergen_list, all_ingreds, all_allergens, allergen_dict]\n",
    "\n",
    "def count_good_ingreds(file):\n",
    "    ingredients, allergens, all_ingredients, all_alergens, alg_dict = parse_file(file)\n",
    "    \n",
    "    allergic_foods = {}\n",
    "    for alg in all_alergens:\n",
    "        allergic_foods = find_food_with_allergen(alg, alg_dict, allergic_foods)\n",
    "    allergic_foods = {\n",
    "        'wheat': 'lzvh', \n",
    "        'nuts': 'pdt', \n",
    "        'soy': 'rjc', \n",
    "        'dairy': 'phc', \n",
    "        'eggs': 'spnd', \n",
    "        'fish': 'zmsdzh', \n",
    "        'sesame': 'lsgqf', \n",
    "        'peanuts': 'fqqcnm'\n",
    "    }\n",
    "    no_allergens = all_ingredients.copy()\n",
    "#     bad_foods = allergic_foods.values()\n",
    "    alg_foods = list(allergic_foods.values())\n",
    "    print(alg_foods)\n",
    "    no_allergens = no_allergens.difference(set(alg_foods))\n",
    "    print('No Allergens:', no_allergens)\n",
    "    print(allergic_foods)\n",
    "    \n",
    "    count = 0\n",
    "    for ing in ingredients:\n",
    "        for food in no_allergens:\n",
    "            if(food in ing):\n",
    "                count +=1\n",
    "    output = list(allergic_foods.keys())\n",
    "    sorted_output = sorted(output)\n",
    "    answer = \"\"\n",
    "    for word in sorted_output:\n",
    "        answer += allergic_foods[word] + ','\n",
    "    return answer\n",
    "    \n",
    "    return count\n",
    "    return len(no_allergens)\n",
    "\n",
    "def find_food_with_allergen(allergen, alg_dict, allergic_foods):\n",
    "#     print(allergen)\n",
    "    foods_to_check = alg_dict[allergen][0]\n",
    "    \n",
    "    print('Allergen', allergen)\n",
    "    for food in foods_to_check:\n",
    "        if(all(food in ingredient_list for ingredient_list in alg_dict[allergen])):\n",
    "            allergic_foods[allergen] = food\n",
    "            print(food)\n",
    "    return allergic_foods"
   ]
  },
  {
   "cell_type": "code",
   "execution_count": 101,
   "metadata": {},
   "outputs": [
    {
     "name": "stdout",
     "output_type": "stream",
     "text": [
      "Allergen wheat\n",
      "fqqcnm\n",
      "phc\n",
      "lzvh\n",
      "lsgqf\n",
      "Allergen nuts\n",
      "phc\n",
      "pdt\n",
      "Allergen soy\n",
      "rjc\n",
      "phc\n",
      "Allergen dairy\n",
      "phc\n",
      "Allergen eggs\n",
      "phc\n",
      "zmsdzh\n",
      "rjc\n",
      "spnd\n",
      "Allergen fish\n",
      "phc\n",
      "fqqcnm\n",
      "zmsdzh\n",
      "Allergen sesame\n",
      "rjc\n",
      "zmsdzh\n",
      "phc\n",
      "spnd\n",
      "lsgqf\n",
      "fqqcnm\n",
      "Allergen peanuts\n",
      "fqqcnm\n",
      "pdt\n",
      "['lzvh', 'pdt', 'rjc', 'phc', 'spnd', 'zmsdzh', 'lsgqf', 'fqqcnm']\n",
      "No Allergens: {'qhtvsr', 'nkzqj', 'jgbk', 'smdlg', 'qdkk', 'hdtr', 'qjhq', 'qzjrtl', 'lkgln', 'ldrgj', 'zdthsvl', 'jlrt', 'vxmrk', 'mzrx', 'nlqhlsn', 'chgjqc', 'dxdrk', 'nfck', 'nhzthvn', 'rbjmdn', 'hzmk', 'pfrqf', 'njdb', 'mxq', 'kdm', 'kjjst', 'sfkcp', 'dxrsgs', 'cncpbssj', 'hddd', 'ksrjn', 'djdhrn', 'ssrgt', 'czmml', 'qlkfvk', 'rftbr', 'zbxj', 'cvbc', 'hqd', 'bxqpgx', 'rzcps', 'rlgr', 'czkxlg', 'hpbnj', 'xtgjslz', 'pmhhqrk', 'qfslcb', 'bggmsj', 'pcslhrg', 'mrczqmj', 'jfrlp', 'rms', 'rfx', 'fctmvrs', 'xgpdnz', 'sxsxm', 'rtq', 'vnjxs', 'jqgm', 'zjbgp', 'vnbfvkp', 'gbhjv', 'lcrs', 'bmqzgvr', 'jbz', 'cgflg', 'mcl', 'njrcfg', 'dgxnc', 'gvdstsc', 'nvmm', 'djhj', 'drtdz', 'vbkb', 'fzlrf', 'dhsssf', 'tzdks', 'xbvrx', 'mkxbf', 'cldgd', 'sjpzc', 'nhnd', 'hjzkg', 'nbgv', 'dfcgd', 'jsh', 'bvlb', 'rsr', 'bkzbrm', 'xqgb', 'xdcp', 'fgptl', 'mxzb', 'nmps', 'gqnxlr', 'mzbgp', 'mhrlx', 'nthsf', 'xsk', 'rdkrtr', 'bvcxfp', 'pdhlzg', 'mbmtz', 'lpm', 'gpqgkt', 'rtmfg', 'flndv', 'strpjp', 'dkg', 'nfgr', 'tkhzz', 'llj', 'tcclbr', 'nqvnn', 'fgcd', 'rntk', 'bvpxc', 'njqrhcc', 'kmlkx', 'jqzklv', 'rng', 'snzxr', 'fqtc', 'hbdv', 'lxldx', 'cqqcd', 'nggbtk', 'fppgp', 'czkfv', 'th', 'jxvx', 'frxmq', 'jp', 'jhv', 'bjcvpc', 'zcphr', 'jqhn', 'mxc', 'hfzqf', 'nppxr', 'fnlk', 'nxrgp', 'npftghk', 'bfnnnrn', 'blvfz', 'zppxp', 'ktnlk', 'thtlt', 'ggrc', 'ssdszsn', 'jhbnm', 'dchvb', 'prbk', 'zfnttf', 'jvhsj', 'lpvfv', 'xvjk', 'gpjr', 'sqhvzg', 'pdj', 'rfgf', 'mgv', 'czvphx', 'prksl', 'hcjkd', 'gcpks', 'vhjgg', 'gcptp', 'zvq', 'jbtlfv', 'qpbl', 'rfxgl', 'hbmvpmt', 'xfn', 'tqkfx', 'psqc', 'fgsr', 'rdjdq', 'qrpzt', 'hrnvd', 'hjvzcp', 'kdbxxzv', 'rtpff', 'fslqkg', 'rxd', 'vhjpjdr', 'hqzcncv', 'hbbgk', 'tktj', 'zgvtn', 'nnskqnmn', 'lftqn'}\n",
      "{'wheat': 'lzvh', 'nuts': 'pdt', 'soy': 'rjc', 'dairy': 'phc', 'eggs': 'spnd', 'fish': 'zmsdzh', 'sesame': 'lsgqf', 'peanuts': 'fqqcnm'}\n"
     ]
    },
    {
     "data": {
      "text/plain": [
       "'phc,spnd,zmsdzh,pdt,fqqcnm,lsgqf,rjc,lzvh,'"
      ]
     },
     "execution_count": 101,
     "metadata": {},
     "output_type": "execute_result"
    }
   ],
   "source": [
    "count_good_ingreds(txt)"
   ]
  },
  {
   "cell_type": "code",
   "execution_count": 27,
   "metadata": {},
   "outputs": [
    {
     "name": "stdout",
     "output_type": "stream",
     "text": [
      "[[['mxmxvkd', 'kfcds', 'sqjhc', 'nhm'], ['trh', 'fvjkl', 'sbzzf', 'mxmxvk'], ['sqjhc', 'fvjk'], ['sqjhc', 'mxmxvkd', 'sbzz']], [['dairy', 'fish'], ['dairy'], ['soy'], ['fish']], {'mxmxvkd', 'sbzz', 'trh', 'nhm', 'mxmxvk', 'fvjk', 'fvjkl', 'kfcds', 'sqjhc', 'sbzzf'}]\n"
     ]
    }
   ],
   "source": [
    "print(parse_file(test))"
   ]
  },
  {
   "cell_type": "code",
   "execution_count": 99,
   "metadata": {},
   "outputs": [
    {
     "data": {
      "text/plain": [
       "'fqqcnm,lsgqf,lzvh,pdt,phc,rjc,spnd,zmsdzh'"
      ]
     },
     "execution_count": 99,
     "metadata": {},
     "output_type": "execute_result"
    }
   ],
   "source": [
    "\",\".join(sorted(['lzvh', 'pdt', 'rjc', 'phc', 'spnd', 'zmsdzh', 'lsgqf', 'fqqcnm']))"
   ]
  },
  {
   "cell_type": "code",
   "execution_count": 31,
   "metadata": {},
   "outputs": [],
   "source": [
    "class imagecell:\n",
    "    def __init__(self, id_num, cell):\n",
    "        self.idnum = id_num\n",
    "        self.cell = cell\n",
    "        self.sides\n",
    "        self.a\n",
    "        self.b\n",
    "        self.c\n",
    "        self.d"
   ]
  },
  {
   "cell_type": "code",
   "execution_count": 78,
   "metadata": {},
   "outputs": [],
   "source": [
    "def get_edges(cell):\n",
    "    edges = []\n",
    "    \n",
    "    # top and bottom\n",
    "    edges.append(cell[0])\n",
    "    edges.append(cell[-1])\n",
    "    \n",
    "    # sides\n",
    "    left = []\n",
    "    right = []\n",
    "#     print(cell)\n",
    "    for row in cell:\n",
    "#         print(row)\n",
    "        left.append(row[0])\n",
    "        right.append(row[-1])\n",
    "    edges.append(left)\n",
    "    edges.append(right)\n",
    "    \n",
    "    return edges\n",
    "\n",
    "def find_all_edges(idnums, cells):\n",
    "    cell_to_edge = {}\n",
    "    for idnum in idnums:\n",
    "        cell_to_edge[idnum] = get_edges(cells[idnum])\n",
    "    return cell_to_edge\n",
    "\n",
    "def find_corners(file):\n",
    "    ids, cells = parse_file(file)\n",
    "    edge_map = find_all_edges(ids, cells)\n",
    "#     print(ids)\n",
    "#     print(cells)\n",
    "    adjacent_cells = defaultdict(set)\n",
    "    for idx in ids:\n",
    "        checklist = ids.copy()\n",
    "        checklist.remove(idx)\n",
    "        for check in checklist:\n",
    "            for edge in edge_map[idx]:\n",
    "                if(edge in edge_map[check] or edge[::-1] in edge_map[check]):\n",
    "                    adjacent_cells[check].add(idx)\n",
    "                    adjacent_cells[idx].add(check)\n",
    "    corner_product = 1\n",
    "    for idx in ids:\n",
    "        if len(adjacent_cells[idx]) == 2:\n",
    "            corner_product *= idx\n",
    "    print(corner_product)\n",
    "    return adjacent_cells"
   ]
  },
  {
   "cell_type": "code",
   "execution_count": 80,
   "metadata": {},
   "outputs": [
    {
     "name": "stdout",
     "output_type": "stream",
     "text": [
      "20899048083289\n"
     ]
    },
    {
     "data": {
      "text/plain": [
       "defaultdict(set,\n",
       "            {1951: {2311, 2729},\n",
       "             2311: {1427, 1951, 3079},\n",
       "             1427: {1489, 2311, 2473, 2729},\n",
       "             3079: {2311, 2473},\n",
       "             2729: {1427, 1951, 2971},\n",
       "             1489: {1171, 1427, 2971},\n",
       "             1171: {1489, 2473},\n",
       "             2473: {1171, 1427, 3079},\n",
       "             2971: {1489, 2729}})"
      ]
     },
     "execution_count": 80,
     "metadata": {},
     "output_type": "execute_result"
    }
   ],
   "source": [
    "adj_cells = find_corners(test)\n",
    "adj_cells"
   ]
  },
  {
   "cell_type": "code",
   "execution_count": 111,
   "metadata": {},
   "outputs": [],
   "source": [
    "def fill_image(adjacent_cells, corner_id):\n",
    "    size = int(len(adjacent_cells)**(0.5))\n",
    "    image = np.empty([size, size], dtype=int)\n",
    "    image[0][0] = corner_id\n",
    "    \n",
    "    current = corner_id\n",
    "    for idx in range(0 ,size):\n",
    "        print('Index is', idx)\n",
    "        current = image[0,idx]\n",
    "        print(current)\n",
    "        print(adjacent_cells[current])    \n",
    "        for cell in adjacent_cells[current]:\n",
    "            print(cell)\n",
    "            print(adjacent_cells[cell])\n",
    "            print(len(adjacent_cells[cell]))\n",
    "            if(len(adjacent_cells[cell]) == 3):\n",
    "                print('got here')\n",
    "                image[0,idx+1] = cell\n",
    "                break\n",
    "    print(image)"
   ]
  },
  {
   "cell_type": "code",
   "execution_count": 112,
   "metadata": {},
   "outputs": [
    {
     "name": "stdout",
     "output_type": "stream",
     "text": [
      "Index is 0\n",
      "1951\n",
      "{2729, 2311}\n",
      "2729\n",
      "{1427, 2971, 1951}\n",
      "3\n",
      "got here\n",
      "Index is 1\n",
      "2729\n",
      "{1427, 2971, 1951}\n",
      "1427\n",
      "{1489, 2729, 2473, 2311}\n",
      "4\n",
      "2971\n",
      "{1489, 2729}\n",
      "2\n",
      "1951\n",
      "{2729, 2311}\n",
      "2\n",
      "Index is 2\n",
      "7471205\n",
      "set()\n",
      "[[   1951    2729 7471205]\n",
      " [2949229 7274595 7274604]\n",
      " [    114 5046356 3997776]]\n"
     ]
    }
   ],
   "source": [
    "fill_image(adj_cells, 1951)"
   ]
  },
  {
   "cell_type": "code",
   "execution_count": null,
   "metadata": {},
   "outputs": [],
   "source": [
    "\n"
   ]
  },
  {
   "cell_type": "code",
   "execution_count": null,
   "metadata": {},
   "outputs": [],
   "source": [
    "\n",
    " \n",
    "    "
   ]
  }
 ],
 "metadata": {
  "kernelspec": {
   "display_name": "Python 3",
   "language": "python",
   "name": "python3"
  },
  "language_info": {
   "codemirror_mode": {
    "name": "ipython",
    "version": 3
   },
   "file_extension": ".py",
   "mimetype": "text/x-python",
   "name": "python",
   "nbconvert_exporter": "python",
   "pygments_lexer": "ipython3",
   "version": "3.8.3"
  }
 },
 "nbformat": 4,
 "nbformat_minor": 4
}
