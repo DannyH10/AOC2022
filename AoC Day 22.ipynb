{
 "cells": [
  {
   "cell_type": "markdown",
   "metadata": {},
   "source": [
    "## First Attempt"
   ]
  },
  {
   "cell_type": "code",
   "execution_count": 1,
   "metadata": {},
   "outputs": [],
   "source": [
    "from pathlib import Path\n",
    "import numpy as np\n",
    "from collections import defaultdict\n",
    "import re"
   ]
  },
  {
   "cell_type": "code",
   "execution_count": 5,
   "metadata": {},
   "outputs": [
    {
     "name": "stdout",
     "output_type": "stream",
     "text": [
      "['Player 1:\\n31\\n24\\n5\\n33\\n7\\n12\\n30\\n22\\n48\\n14\\n16\\n26\\n18\\n45\\n4\\n42\\n25\\n20\\n46\\n21\\n40\\n38\\n34\\n17\\n50', 'Player 2:\\n1\\n3\\n41\\n8\\n37\\n35\\n28\\n39\\n43\\n29\\n10\\n27\\n11\\n36\\n49\\n32\\n2\\n23\\n19\\n9\\n13\\n15\\n47\\n6\\n44']\n"
     ]
    }
   ],
   "source": [
    "dtype = 'string'\n",
    "txt=[]\n",
    "\n",
    "f_in = Path('./Data Sets/day22data.txt')\n",
    "with open(f_in,'r') as f:\n",
    "    txt = f.read().split('\\n\\n')\n",
    "\n",
    "if(dtype == 'int'):\n",
    "    nums = []\n",
    "    for num in txt:\n",
    "        nums.append(int(num))\n",
    "elif(dtype == 'float'):\n",
    "    nums = []\n",
    "    for num in txt:\n",
    "        nums.append(float(num))\n",
    "print(txt)\n",
    "# print(nums)"
   ]
  },
  {
   "cell_type": "code",
   "execution_count": 4,
   "metadata": {},
   "outputs": [
    {
     "name": "stdout",
     "output_type": "stream",
     "text": [
      "['mxmxvkd kfcds sqjhc nhms (contains dairy, fish)', 'trh fvjkl sbzzf mxmxvkd (contains dairy)', 'sqjhc fvjkl (contains soy)', 'sqjhc mxmxvkd sbzzf (contains fish)']\n"
     ]
    }
   ],
   "source": [
    "test=[]\n",
    "\n",
    "f_in = Path('./Data Sets/test2.txt')\n",
    "with open(f_in,'r') as f:\n",
    "    test = f.read().split('\\n')\n",
    "\n",
    "if(dtype == 'int'):\n",
    "    testnums = []\n",
    "    for num in test:\n",
    "        testnums.append(int(num))\n",
    "elif(dtype == 'float'):\n",
    "    testnums = []\n",
    "    for num in test:\n",
    "        testnums.append(float(num))\n",
    "print(test)\n",
    "# print(testnums)"
   ]
  },
  {
   "cell_type": "code",
   "execution_count": 11,
   "metadata": {},
   "outputs": [
    {
     "data": {
      "text/plain": [
       "'Player 2:'"
      ]
     },
     "execution_count": 11,
     "metadata": {},
     "output_type": "execute_result"
    }
   ],
   "source": [
    "player1 = txt[0].split('\\n')\n",
    "player2 = txt[1].split('\\n')\n",
    "player1.pop(0)\n",
    "player2.pop(0)"
   ]
  },
  {
   "cell_type": "code",
   "execution_count": 12,
   "metadata": {},
   "outputs": [
    {
     "name": "stdout",
     "output_type": "stream",
     "text": [
      "['31', '24', '5', '33', '7', '12', '30', '22', '48', '14', '16', '26', '18', '45', '4', '42', '25', '20', '46', '21', '40', '38', '34', '17', '50'] ['1', '3', '41', '8', '37', '35', '28', '39', '43', '29', '10', '27', '11', '36', '49', '32', '2', '23', '19', '9', '13', '15', '47', '6', '44']\n"
     ]
    }
   ],
   "source": [
    "print(player1, player2)"
   ]
  },
  {
   "cell_type": "code",
   "execution_count": 110,
   "metadata": {},
   "outputs": [
    {
     "name": "stdout",
     "output_type": "stream",
     "text": [
      "[31, 24, 5, 33, 7, 12, 30, 22, 48, 14, 16, 26, 18, 45, 4, 42, 25, 20, 46, 21, 40, 38, 34, 17, 50] [1, 3, 41, 8, 37, 35, 28, 39, 43, 29, 10, 27, 11, 36, 49, 32, 2, 23, 19, 9, 13, 15, 47, 6, 44]\n"
     ]
    }
   ],
   "source": [
    "p1cards = []\n",
    "p2cards = []\n",
    "for idx, card in enumerate(player1):\n",
    "    p1cards.append(int(player1[idx]))\n",
    "    p2cards.append(int(player2[idx]))\n",
    "print(p1cards,p2cards)"
   ]
  },
  {
   "cell_type": "code",
   "execution_count": 17,
   "metadata": {},
   "outputs": [
    {
     "name": "stdout",
     "output_type": "stream",
     "text": [
      "36257\n"
     ]
    }
   ],
   "source": [
    "while len(p1cards) > 0 and len(p2cards) > 0:\n",
    "    p1card = p1cards.pop(0)\n",
    "    p2card = p2cards.pop(0)\n",
    "    if(p1card > p2card):\n",
    "        p1cards.append(p1card)\n",
    "        p1cards.append(p2card)\n",
    "    else:\n",
    "        p2cards.append(p2card)\n",
    "        p2cards.append(p1card)\n",
    "\n",
    "score = 0\n",
    "if len(p1cards) > 0:\n",
    "    for idx, card in enumerate(p1cards):\n",
    "        scale = len(p1cards) - idx\n",
    "        score += scale * card\n",
    "else:\n",
    "    for idx, card in enumerate(p2cards):\n",
    "        scale = len(p2cards) - idx\n",
    "        score += scale * card\n",
    "print(score)"
   ]
  },
  {
   "cell_type": "code",
   "execution_count": 100,
   "metadata": {},
   "outputs": [],
   "source": [
    "test1 = [9, 2, 6, 3, 1]\n",
    "test2 = [5, 8, 4, 7, 10]"
   ]
  },
  {
   "cell_type": "code",
   "execution_count": 105,
   "metadata": {},
   "outputs": [],
   "source": [
    "def recursive_combat(cards1, cards2):\n",
    "    prev_rounds = []\n",
    "#     print('sub game started')\n",
    "    while len(cards1) > 0 and len(cards2) > 0:\n",
    "        if((cards1,cards2) in prev_rounds):\n",
    "#             print('infinite recursion approached')\n",
    "#             print(prev_rounds)\n",
    "#             print(cards1, cards2)\n",
    "            return [0, True]\n",
    "        else:\n",
    "#             print((cards1,cards2))\n",
    "            prev_rounds.append((cards1.copy(),cards2.copy()))\n",
    "        # check loop\n",
    "        p1card = cards1.pop(0)\n",
    "        p2card = cards2.pop(0)\n",
    "#         print('cards drawn:', p1card, p2card)\n",
    "#         print('hands:',cards1, cards2)\n",
    "        if(len(cards1) >= p1card and len(cards2) >= p2card):\n",
    "            p1cardsdup = cards1[:p1card].copy()\n",
    "            p2cardsdup = cards2[:p2card].copy()\n",
    "#             print([cards1, cards2])\n",
    "            score, p1wins = recursive_combat(p1cardsdup,p2cardsdup)\n",
    "#             print('sub game ended\\n\\n')\n",
    "            if(p1wins):\n",
    "                cards1.append(p1card)\n",
    "                cards1.append(p2card)\n",
    "            else:\n",
    "                cards2.append(p2card)\n",
    "                cards2.append(p1card)\n",
    "        elif(p1card > p2card):\n",
    "            cards1.append(p1card)\n",
    "            cards1.append(p2card)\n",
    "        else:\n",
    "            cards2.append(p2card)\n",
    "            cards2.append(p1card)\n",
    "\n",
    "    score = 0\n",
    "    if len(cards1) > 0:\n",
    "        for idx, card in enumerate(cards1):\n",
    "            scale = len(cards1) - idx\n",
    "            score += scale * card\n",
    "        p1wins = True\n",
    "    else:\n",
    "        for idx, card in enumerate(cards2):\n",
    "            scale = len(cards2) - idx\n",
    "            score += scale * card\n",
    "        p1wins = False\n",
    "    return [score,p1wins]"
   ]
  },
  {
   "cell_type": "code",
   "execution_count": 106,
   "metadata": {},
   "outputs": [
    {
     "data": {
      "text/plain": [
       "[291, False]"
      ]
     },
     "execution_count": 106,
     "metadata": {},
     "output_type": "execute_result"
    }
   ],
   "source": [
    "trial1=test1.copy()\n",
    "trial2=test2.copy()\n",
    "previous_rounds_played = []\n",
    "recursive_combat(trial1,trial2)"
   ]
  },
  {
   "cell_type": "code",
   "execution_count": 111,
   "metadata": {},
   "outputs": [
    {
     "data": {
      "text/plain": [
       "[33304, True]"
      ]
     },
     "execution_count": 111,
     "metadata": {},
     "output_type": "execute_result"
    }
   ],
   "source": [
    "previous_rounds_played = []\n",
    "recursive_combat(p1cards,p2cards)"
   ]
  },
  {
   "cell_type": "code",
   "execution_count": 104,
   "metadata": {},
   "outputs": [
    {
     "name": "stdout",
     "output_type": "stream",
     "text": [
      "([43, 19], [2, 29, 14])\n",
      "([19, 43, 2], [29, 14])\n",
      "([43, 2], [14, 29, 19])\n",
      "([2, 43, 14], [29, 19])\n",
      "([43, 14], [19, 29, 2])\n",
      "([14, 43, 19], [29, 2])\n"
     ]
    },
    {
     "data": {
      "text/plain": [
       "[0, True]"
      ]
     },
     "execution_count": 104,
     "metadata": {},
     "output_type": "execute_result"
    }
   ],
   "source": [
    "test3 = [43, 19]\n",
    "test4 = [2,29,14]\n",
    "trial1=test3.copy()\n",
    "trial2=test4.copy()\n",
    "recursive_combat(trial1,trial2)"
   ]
  },
  {
   "cell_type": "code",
   "execution_count": null,
   "metadata": {},
   "outputs": [],
   "source": []
  }
 ],
 "metadata": {
  "kernelspec": {
   "display_name": "Python 3",
   "language": "python",
   "name": "python3"
  },
  "language_info": {
   "codemirror_mode": {
    "name": "ipython",
    "version": 3
   },
   "file_extension": ".py",
   "mimetype": "text/x-python",
   "name": "python",
   "nbconvert_exporter": "python",
   "pygments_lexer": "ipython3",
   "version": "3.8.3"
  }
 },
 "nbformat": 4,
 "nbformat_minor": 4
}
