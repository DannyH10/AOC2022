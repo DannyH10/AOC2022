{
 "cells": [
  {
   "cell_type": "markdown",
   "metadata": {},
   "source": [
    "## First Attempt"
   ]
  },
  {
   "cell_type": "code",
   "execution_count": 1,
   "metadata": {},
   "outputs": [],
   "source": [
    "from pathlib import Path\n",
    "import numpy as np\n",
    "from collections import defaultdict\n",
    "import re"
   ]
  },
  {
   "cell_type": "code",
   "execution_count": 5,
   "metadata": {},
   "outputs": [
    {
     "name": "stdout",
     "output_type": "stream",
     "text": [
      "['Player 1:\\n31\\n24\\n5\\n33\\n7\\n12\\n30\\n22\\n48\\n14\\n16\\n26\\n18\\n45\\n4\\n42\\n25\\n20\\n46\\n21\\n40\\n38\\n34\\n17\\n50', 'Player 2:\\n1\\n3\\n41\\n8\\n37\\n35\\n28\\n39\\n43\\n29\\n10\\n27\\n11\\n36\\n49\\n32\\n2\\n23\\n19\\n9\\n13\\n15\\n47\\n6\\n44']\n"
     ]
    }
   ],
   "source": [
    "dtype = 'string'\n",
    "txt=[]\n",
    "\n",
    "f_in = Path('./Data Sets/day22data.txt')\n",
    "with open(f_in,'r') as f:\n",
    "    txt = f.read().split('\\n\\n')\n",
    "\n",
    "if(dtype == 'int'):\n",
    "    nums = []\n",
    "    for num in txt:\n",
    "        nums.append(int(num))\n",
    "elif(dtype == 'float'):\n",
    "    nums = []\n",
    "    for num in txt:\n",
    "        nums.append(float(num))\n",
    "print(txt)\n",
    "# print(nums)"
   ]
  },
  {
   "cell_type": "code",
   "execution_count": 4,
   "metadata": {},
   "outputs": [
    {
     "name": "stdout",
     "output_type": "stream",
     "text": [
      "['mxmxvkd kfcds sqjhc nhms (contains dairy, fish)', 'trh fvjkl sbzzf mxmxvkd (contains dairy)', 'sqjhc fvjkl (contains soy)', 'sqjhc mxmxvkd sbzzf (contains fish)']\n"
     ]
    }
   ],
   "source": [
    "test=[]\n",
    "\n",
    "f_in = Path('./Data Sets/test2.txt')\n",
    "with open(f_in,'r') as f:\n",
    "    test = f.read().split('\\n')\n",
    "\n",
    "if(dtype == 'int'):\n",
    "    testnums = []\n",
    "    for num in test:\n",
    "        testnums.append(int(num))\n",
    "elif(dtype == 'float'):\n",
    "    testnums = []\n",
    "    for num in test:\n",
    "        testnums.append(float(num))\n",
    "print(test)\n",
    "# print(testnums)"
   ]
  },
  {
   "cell_type": "code",
   "execution_count": 6,
   "metadata": {},
   "outputs": [
    {
     "name": "stdout",
     "output_type": "stream",
     "text": [
      "['583976241']\n"
     ]
    }
   ],
   "source": [
    "data = '583976241'\n",
    "datal = data.split()\n",
    "print(datal)"
   ]
  },
  {
   "cell_type": "code",
   "execution_count": 43,
   "metadata": {},
   "outputs": [],
   "source": [
    "def reorganize_cups(cups, current_cup):\n",
    "    cup_idx = cups.find(current_cup)\n",
    "    ending = cups[:cup_idx]\n",
    "    return cups[cup_idx:] + ending\n",
    "\n",
    "def remove_cups(cups, current_cup):\n",
    "    cup_idx = cups.find(current_cup)\n",
    "    cups_removed = cups[cup_idx+1:cup_idx+4]\n",
    "    return [cups[:cup_idx+1] + cups[cup_idx+4:], cups_removed]\n",
    "\n",
    "def cup_destination(cups, current_cup, cups_to_add):\n",
    "    dest_cup_num = int(current_cup) - 1\n",
    "    if(dest_cup_num <= 0):\n",
    "        dest_cup_num += 9\n",
    "    dest_cup = str(dest_cup_num)\n",
    "    \n",
    "    while(dest_cup in list(cups_to_add)):\n",
    "        dest_cup_num = int(dest_cup) - 1\n",
    "        if(dest_cup_num <= 0):\n",
    "            dest_cup_num += 9\n",
    "        dest_cup = str(dest_cup_num)\n",
    "    cups = reorganize_cups(cups, dest_cup)\n",
    "    \n",
    "    return cups[:1] + cups_to_add + cups[1:]\n",
    "\n",
    "def cup_game(cup_order, turns):\n",
    "    current_cup = cup_order[0]\n",
    "    for _ in range(turns):\n",
    "        unselected_cups, removed_cups = remove_cups(cup_order, current_cup)\n",
    "        print(unselected_cups, removed_cups)\n",
    "        \n",
    "        cup_order = cup_destination(unselected_cups, current_cup, removed_cups)\n",
    "        cup_order = reorganize_cups(cup_order, current_cup)\n",
    "        print(cup_order)\n",
    "        current_idx = cup_order.find(current_cup)\n",
    "        current_cup = cup_order[current_idx + 1]\n",
    "        print(cup_order)\n",
    "    return reorganize_cups(cup_order, '1')[1:]"
   ]
  },
  {
   "cell_type": "code",
   "execution_count": 35,
   "metadata": {},
   "outputs": [
    {
     "data": {
      "text/plain": [
       "'762415839'"
      ]
     },
     "execution_count": 35,
     "metadata": {},
     "output_type": "execute_result"
    }
   ],
   "source": [
    "reorganize_cups(data, '7')"
   ]
  },
  {
   "cell_type": "code",
   "execution_count": 23,
   "metadata": {},
   "outputs": [
    {
     "name": "stdout",
     "output_type": "stream",
     "text": [
      "576241 839\n"
     ]
    },
    {
     "data": {
      "text/plain": [
       "'483915762'"
      ]
     },
     "execution_count": 23,
     "metadata": {},
     "output_type": "execute_result"
    }
   ],
   "source": [
    "cups, new = remove_cups(data, '5')\n",
    "print(cups, new)\n",
    "cup_destination(cups, '5', new)"
   ]
  },
  {
   "cell_type": "code",
   "execution_count": 44,
   "metadata": {},
   "outputs": [
    {
     "name": "stdout",
     "output_type": "stream",
     "text": [
      "325467 891\n",
      "328915467\n",
      "328915467\n",
      "325467 891\n",
      "254678913\n",
      "254678913\n",
      "258913 467\n",
      "589134672\n",
      "589134672\n",
      "584672 913\n",
      "846791325\n",
      "846791325\n",
      "841325 679\n",
      "413679258\n",
      "413679258\n",
      "419258 367\n",
      "193672584\n",
      "193672584\n",
      "192584 367\n",
      "925836741\n",
      "925836741\n",
      "926741 583\n",
      "267415839\n",
      "267415839\n",
      "265839 741\n",
      "657418392\n",
      "657418392\n",
      "658392 741\n",
      "583741926\n",
      "583741926\n"
     ]
    },
    {
     "data": {
      "text/plain": [
       "'92658374'"
      ]
     },
     "execution_count": 44,
     "metadata": {},
     "output_type": "execute_result"
    }
   ],
   "source": [
    "cup_game('389125467', 10)"
   ]
  },
  {
   "cell_type": "code",
   "execution_count": 45,
   "metadata": {},
   "outputs": [
    {
     "name": "stdout",
     "output_type": "stream",
     "text": [
      "576241 839\n",
      "576248391\n",
      "576248391\n",
      "578391 624\n",
      "783915624\n",
      "783915624\n",
      "785624 391\n",
      "856247391\n",
      "856247391\n",
      "857391 624\n",
      "573624918\n",
      "573624918\n",
      "574918 362\n",
      "749185362\n",
      "749185362\n",
      "745362 918\n",
      "453918627\n",
      "453918627\n",
      "458627 391\n",
      "586274391\n",
      "586274391\n",
      "584391 627\n",
      "843915627\n",
      "843915627\n",
      "845627 391\n",
      "456239178\n",
      "456239178\n",
      "459178 623\n",
      "591784623\n",
      "591784623\n",
      "594623 178\n",
      "946178235\n",
      "946178235\n",
      "948235 617\n",
      "482361759\n",
      "482361759\n",
      "481759 236\n",
      "817236594\n",
      "817236594\n",
      "816594 723\n",
      "165972348\n",
      "165972348\n",
      "162348 597\n",
      "623459781\n",
      "623459781\n",
      "629781 345\n",
      "297813456\n",
      "297813456\n",
      "293456 781\n",
      "934567812\n",
      "934567812\n",
      "937812 456\n",
      "378124569\n",
      "378124569\n",
      "374569 812\n",
      "745681293\n",
      "745681293\n",
      "741293 568\n",
      "412935687\n",
      "412935687\n",
      "415687 293\n",
      "156829374\n",
      "156829374\n",
      "159374 682\n",
      "593746821\n",
      "593746821\n",
      "596821 374\n",
      "968374215\n",
      "968374215\n",
      "964215 837\n",
      "642158379\n",
      "642158379\n",
      "648379 215\n",
      "483215796\n",
      "483215796\n",
      "485796 321\n",
      "857321964\n",
      "857321964\n",
      "851964 732\n",
      "519647328\n",
      "519647328\n",
      "517328 964\n",
      "173289645\n",
      "173289645\n",
      "179645 328\n",
      "796328451\n",
      "796328451\n",
      "798451 632\n",
      "986324517\n",
      "986324517\n",
      "984517 632\n",
      "845176329\n",
      "845176329\n",
      "846329 517\n",
      "463517298\n",
      "463517298\n",
      "467298 351\n",
      "672984351\n",
      "672984351\n",
      "674351 298\n",
      "743516298\n",
      "743516298\n",
      "746298 351\n",
      "462351987\n",
      "462351987\n",
      "461987 235\n",
      "619874235\n",
      "619874235\n",
      "614235 987\n",
      "142356987\n",
      "142356987\n",
      "146987 235\n",
      "469871235\n",
      "469871235\n",
      "461235 987\n",
      "612359874\n",
      "612359874\n",
      "619874 235\n",
      "192358746\n",
      "192358746\n",
      "198746 235\n",
      "982357461\n",
      "982357461\n",
      "987461 235\n",
      "872354619\n",
      "872354619\n",
      "874619 235\n",
      "746235198\n",
      "746235198\n",
      "745198 623\n",
      "451623987\n",
      "451623987\n",
      "453987 162\n",
      "539874162\n",
      "539874162\n",
      "534162 987\n",
      "341629875\n",
      "341629875\n",
      "349875 162\n",
      "498753162\n",
      "498753162\n",
      "493162 875\n",
      "931687524\n",
      "931687524\n",
      "937524 168\n",
      "375216849\n",
      "375216849\n",
      "376849 521\n",
      "765218493\n",
      "765218493\n",
      "768493 521\n",
      "684521937\n",
      "684521937\n",
      "681937 452\n",
      "819374526\n",
      "819374526\n",
      "814526 937\n",
      "145268937\n",
      "145268937\n",
      "148937 526\n",
      "489352671\n",
      "489352671\n",
      "482671 935\n",
      "826793514\n",
      "826793514\n",
      "823514 679\n",
      "235167948\n",
      "235167948\n",
      "237948 516\n",
      "379482516\n",
      "379482516\n",
      "372516 948\n",
      "725169483\n",
      "725169483\n",
      "729483 516\n",
      "295164837\n",
      "295164837\n",
      "294837 516\n",
      "948516372\n",
      "948516372\n",
      "946372 851\n",
      "463851729\n",
      "463851729\n",
      "461729 385\n",
      "617294385\n",
      "617294385\n",
      "614385 729\n",
      "143872956\n",
      "143872956\n",
      "142956 387\n",
      "423879561\n",
      "423879561\n",
      "429561 387\n",
      "295613874\n",
      "295613874\n",
      "293874 561\n",
      "938561742\n",
      "938561742\n",
      "931742 856\n",
      "317428569\n",
      "317428569\n",
      "318569 742\n",
      "185697423\n",
      "185697423\n",
      "187423 569\n",
      "875694231\n",
      "875694231\n",
      "874231 569\n",
      "745692318\n",
      "745692318\n",
      "742318 569\n",
      "423569187\n",
      "423569187\n",
      "429187 356\n",
      "291356874\n",
      "291356874\n",
      "296874 135\n",
      "968135742\n",
      "968135742\n",
      "965742 813\n",
      "658137429\n",
      "658137429\n",
      "657429 813\n",
      "574813296\n",
      "574813296\n",
      "573296 481\n",
      "732964815\n",
      "732964815\n",
      "734815 296\n",
      "348129657\n",
      "348129657\n",
      "349657 812\n",
      "496573812\n",
      "496573812\n",
      "493812 657\n",
      "938657124\n",
      "938657124\n",
      "937124 865\n",
      "371286549\n",
      "371286549\n",
      "376549 128\n",
      "761285493\n",
      "761285493\n",
      "765493 128\n",
      "651284937\n",
      "651284937\n",
      "654937 128\n",
      "541289376\n",
      "541289376\n",
      "549376 128\n",
      "493128765\n",
      "493128765\n",
      "498765 312\n",
      "983127654\n",
      "983127654\n",
      "987654 312\n",
      "873126549\n",
      "873126549\n",
      "876549 312\n",
      "763125498\n",
      "763125498\n",
      "765498 312\n",
      "653124987\n",
      "653124987\n",
      "654987 312\n",
      "543129876\n",
      "543129876\n",
      "549876 312\n",
      "493128765\n",
      "493128765\n",
      "498765 312\n",
      "983127654\n",
      "983127654\n",
      "987654 312\n",
      "873126549\n",
      "873126549\n",
      "876549 312\n",
      "763125498\n",
      "763125498\n",
      "765498 312\n",
      "653124987\n",
      "653124987\n",
      "654987 312\n",
      "543129876\n",
      "543129876\n",
      "549876 312\n",
      "493128765\n",
      "493128765\n",
      "498765 312\n",
      "983127654\n",
      "983127654\n",
      "987654 312\n",
      "873126549\n",
      "873126549\n",
      "876549 312\n",
      "763125498\n",
      "763125498\n",
      "765498 312\n",
      "653124987\n",
      "653124987\n"
     ]
    },
    {
     "data": {
      "text/plain": [
       "'24987653'"
      ]
     },
     "execution_count": 45,
     "metadata": {},
     "output_type": "execute_result"
    }
   ],
   "source": [
    "cup_game('583976241', 100)"
   ]
  },
  {
   "cell_type": "code",
   "execution_count": 187,
   "metadata": {},
   "outputs": [],
   "source": [
    "cup_order = {}\n",
    "order = '389125467'\n",
    "\n",
    "for idx, num in enumerate(order):\n",
    "    if(idx != 8):\n",
    "        cup_order[int(num)] = int(order[idx+1])\n",
    "    else:\n",
    "        cup_order[int(num)] = 10\n",
    "\n",
    "for num in range(10,1000001,1):\n",
    "    if(num !=1000000):\n",
    "        cup_order[num] = num+1\n",
    "    else:\n",
    "        cup_order[num] = int(order[0])"
   ]
  },
  {
   "cell_type": "code",
   "execution_count": 181,
   "metadata": {},
   "outputs": [
    {
     "data": {
      "text/plain": [
       "876955"
      ]
     },
     "execution_count": 181,
     "metadata": {},
     "output_type": "execute_result"
    }
   ],
   "source": [
    "cup_order[876954]"
   ]
  },
  {
   "cell_type": "code",
   "execution_count": 174,
   "metadata": {},
   "outputs": [],
   "source": [
    "cups = {}\n",
    "cups[3] = 8\n",
    "cups[8] = 9\n",
    "cups[9] = 1\n",
    "cups[1] = 2\n",
    "cups[2] = 5\n",
    "cups[5] = 4\n",
    "cups[4] = 6\n",
    "cups[6] = 7\n",
    "cups[7] = 3"
   ]
  },
  {
   "cell_type": "code",
   "execution_count": 57,
   "metadata": {},
   "outputs": [
    {
     "data": {
      "text/plain": [
       "{3: 8, 8: 9, 9: 1, 1: 2, 2: 5, 5: 4, 4: 6, 6: 7, 7: 3}"
      ]
     },
     "execution_count": 57,
     "metadata": {},
     "output_type": "execute_result"
    }
   ],
   "source": [
    "cups"
   ]
  },
  {
   "cell_type": "code",
   "execution_count": 202,
   "metadata": {},
   "outputs": [],
   "source": [
    "def get_next_three_cups(current_cup, cups):\n",
    "    cup_list = []\n",
    "    cup_list.append(cups[current_cup])\n",
    "    cup_list.append(cups[cups[current_cup]])\n",
    "    cup_list.append(cups[cups[cups[current_cup]]])\n",
    "    return cup_list\n",
    "\n",
    "def shift_current_cup(current_cup, exclude_list, cups):\n",
    "    new_current_cup = current_cup - 1\n",
    "    if(new_current_cup <= 0):\n",
    "        new_current_cup += 1000000\n",
    "        \n",
    "    while(new_current_cup in exclude_list):\n",
    "        new_current_cup = new_current_cup - 1\n",
    "        if(new_current_cup <= 0):\n",
    "            new_current_cup += 1000000        \n",
    "    return new_current_cup\n",
    "\n",
    "def cup_game(cups, turns, current_cup):\n",
    "    for _ in range(turns):\n",
    "      \n",
    "        # remove three cups from the linked list clockwise of current_cup\n",
    "        removed_cups = get_next_three_cups(current_cup, cups)\n",
    "        cups[current_cup] = cups[removed_cups[2]]\n",
    "\n",
    "        # figure out where the three new cups will go\n",
    "        dest_cup = shift_current_cup(current_cup, removed_cups, cups)\n",
    "\n",
    "        # insert missed cups passed the destination cup\n",
    "        end_cup = cups[dest_cup]\n",
    "        cups[dest_cup] = removed_cups[0]\n",
    "        cups[removed_cups[0]] = removed_cups[1]\n",
    "        cups[removed_cups[1]] = removed_cups[2]\n",
    "        cups[removed_cups[2]] = end_cup\n",
    "\n",
    "        current_cup = cups[current_cup]\n",
    "\n",
    "    return cups"
   ]
  },
  {
   "cell_type": "code",
   "execution_count": 64,
   "metadata": {},
   "outputs": [
    {
     "name": "stdout",
     "output_type": "stream",
     "text": [
      "8 9 1\n"
     ]
    }
   ],
   "source": [
    "remove_cups(cups, 3)"
   ]
  },
  {
   "cell_type": "code",
   "execution_count": 201,
   "metadata": {},
   "outputs": [
    {
     "data": {
      "text/plain": [
       "442938711161"
      ]
     },
     "execution_count": 201,
     "metadata": {},
     "output_type": "execute_result"
    }
   ],
   "source": [
    "cup_order = {}\n",
    "order = '583976241'\n",
    "\n",
    "for idx, num in enumerate(order):\n",
    "    if(idx != 8):\n",
    "        cup_order[int(num)] = int(order[idx+1])\n",
    "    else:\n",
    "        cup_order[int(num)] = 10\n",
    "\n",
    "for num in range(10,1000001,1):\n",
    "    if(num !=1000000):\n",
    "        cup_order[num] = num+1\n",
    "    else:\n",
    "        cup_order[num] = int(order[0])\n",
    "\n",
    "test = cup_game(cup_order, 10000000, 5)\n",
    "test[1]*test[test[1]]"
   ]
  },
  {
   "cell_type": "code",
   "execution_count": 198,
   "metadata": {},
   "outputs": [
    {
     "data": {
      "text/plain": [
       "149245887792"
      ]
     },
     "execution_count": 198,
     "metadata": {},
     "output_type": "execute_result"
    }
   ],
   "source": [
    "test[1]*test[test[1]]"
   ]
  },
  {
   "cell_type": "code",
   "execution_count": 200,
   "metadata": {},
   "outputs": [
    {
     "data": {
      "text/plain": [
       "True"
      ]
     },
     "execution_count": 200,
     "metadata": {},
     "output_type": "execute_result"
    }
   ],
   "source": []
  },
  {
   "cell_type": "code",
   "execution_count": null,
   "metadata": {},
   "outputs": [],
   "source": []
  }
 ],
 "metadata": {
  "kernelspec": {
   "display_name": "Python 3",
   "language": "python",
   "name": "python3"
  },
  "language_info": {
   "codemirror_mode": {
    "name": "ipython",
    "version": 3
   },
   "file_extension": ".py",
   "mimetype": "text/x-python",
   "name": "python",
   "nbconvert_exporter": "python",
   "pygments_lexer": "ipython3",
   "version": "3.8.3"
  }
 },
 "nbformat": 4,
 "nbformat_minor": 4
}
