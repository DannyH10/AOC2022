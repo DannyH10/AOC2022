{
 "cells": [
  {
   "cell_type": "markdown",
   "metadata": {},
   "source": [
    "## First Attempt"
   ]
  },
  {
   "cell_type": "code",
   "execution_count": 1,
   "metadata": {},
   "outputs": [],
   "source": [
    "from pathlib import Path\n",
    "import numpy as np\n",
    "from collections import defaultdict\n",
    "import re"
   ]
  },
  {
   "cell_type": "code",
   "execution_count": 63,
   "metadata": {},
   "outputs": [
    {
     "name": "stdout",
     "output_type": "stream",
     "text": [
      "['eneweeneseneeeneneee', 'wewwwwnewnwseswwnwnwnwsenwnesenwnw', 'enenweneswnewswwneesenwenewswsenw', 'eenweeswsweeneeeenweswnweee', 'eseeseseesweeeseeeeneenwwee', 'wwwwnewsewewwwnwwswnwnwnwww', 'seenwswsesweseswnwseseswsenwnwsewese', 'swswswswswswewnwwwswwswsenwseswnew', 'eeenwseseseseeseseswseese', 'enwweeseseseswwnweneeeswswnenewe', 'nwnesenesesenewnwnenesenenenwnenewesw', 'neseeewwwsenweeenwsesweseeenwee', 'nenenenenewnenwswseeeneswnwseneeene', 'enwnwwnwwwwwwswweewnwwnwwnw', 'neneneneneneneneewneswneneneneswnenese', 'eswseswswswnwswswwswsenwswseneneswseswne', 'weneneneneweswnenwsenwnwewwnwnee', 'sesweneneseewnenewnenwwneenenenene', 'swseswswseswswsewseneswswswwneseswswsw', 'swswswswswnwsweswwswnwswwsweneswswswsw', 'swnwsewwnenwenwswenwnesenwwnwnwnwnw', 'wwnewwswsewwnewwwwwwwww', 'nwwwnwsenewenwwnwwnwswnwwnwnwnw', 'eswseeswsenwseneswswnwswwseswnwswswse', 'swwwnewnwnwsesewswnwnwwwwewnwwww', 'eenenewseeeneweneeeneswenwnwne', 'nwnwnwnwswnwnewnww', 'nwnwneweneswswswwsenenwnenwnwsenenene', 'nwweeseeeeseeesww', 'neneenweeeneneswsweneneneseenwnenw', 'swswswwswwswsweswswneswseswswswneneswse', 'eenweseesenwswneeeneeewseewe', 'wwswesesesesewnwewwswnwwnenwnwsww', 'eseeeeeswseneweenesenweeswese', 'seswenwneesenwnenesenwwneesesenwwnene', 'swseenwswwseswseenwswswe', 'eneeswnenwwsenewsewnwsenwnwsewnww', 'seswseswsenenwnwsweswswseswsesewswwse', 'newneneneneneneenenenenwnenene', 'wsewnewwwwwwwwswwwwe', 'swnwwswwesweswwswswneswswswswwswsww', 'seeeseeenwseeswseeeneesweeswnwe', 'swewswwseneseseseneseswseswseswsw', 'nenwwnenwswnwnenwnesenenenenwnwnwenenwsene', 'swwwnwswnwswnenwswswseeneswneswswswswe', 'weneneenwwseeeeeeseeeenewne', 'wneeweswwwnwwnwwnwneswwe', 'nwewsewnwnwswwwwwwwwswwnwsewne', 'wswwswwwswwswswenwwsw', 'enenweenwsweseeseeeeeswenweesw', 'nwnesenwnwnwnenenwwneswnenwneenwnwnwne', 'neswswswswswswweswneswswsewswwwww', 'wnwseseenwwwnee', 'neneneneneswnenwneseneneneeenwnenwswne', 'wwswnenewwewwseweswwwseewswnw', 'eseseseseswwneseneneswseseseswseseswse', 'swnweswseswswnwswswswseswsesenwswswswsw', 'swswnwseswswswswwwsesenenwsweneswee', 'neswwneeesenwese', 'neswneswwswwswesww', 'swswsesenewwnwwwwwnwwswwsewswsw', 'nwsweswseeneneeneswnwnwe', 'eseseewswwewwwneswwnwneswnwwww', 'nwnwnenwnenwneswnwnwnenwnwnwsenweswwnwne', 'eeweesewseeneseneseseseseesesesewse', 'enwswsenwnwseeeneseese', 'swswseswwnwswsweswswswewsesw', 'esweseeseenwsweeeeseewnwenwsw', 'ewswnweswswswwswnwswswswswswswswsw', 'wswenwswwewswenenweswseweewswne', 'seesweswseeeeneseeneseweeeene', 'swwswewneswswneswswswswseswswsenwsee', 'wwwwnwnwwwnwwwwenwnwnw', 'seeswnwswsesewnenwswswnwesenwwswseenw', 'weeneneeswnewneneenwneneseneneenee', 'wnweneneenwnenwneswswnenenwnwneenwnwne', 'sesesesesesesewsesenwsesesesesenese', 'senwwsenenenenwwsewswnwnweneenwsenenew', 'neneenenewweneneneeeweseseeene', 'eswesesesenenesewnwseseseswseswnw', 'swnwwnwwwswwnwswwwswweeswwwse', 'newwsenenewenwnwsweewsenenewenwnwse', 'swenwneeeseeneeeswnweneenewnwne', 'wsenenenwwswswwseswwweswwnwweswww', 'nwswwwneeneswswnenwswesewsewnwwww', 'sewesenesesenenwswseweswsweswseneew', 'swswneseswswwwseswswseswseswneseswne', 'swneswseswswswswseeswswswnwswsw', 'seenwswswsesesesesewswswnenwswseswswswsw', 'eswswswsweswswseseesenewswswswnwwsw', 'nwsenwnwnwnwwenwnwnw', 'nenewewwneeeeeeswene', 'enwwwwwnesewwnwwswsewwwnwwneww', 'enenenenenwnwwneeswsenenwnwnewnewne', 'eewnenwneneneseswnwneswwseeneneneneesw', 'swswneswswswseswswswsewswseswneswwsene', 'senwseesesewseseseswswnenwseswsesesesese', 'sweeenenwwneneeeew', 'enwnwesewnwswnwwwnewswwwwwnenw', 'enenwwnwnwswnwseswwww', 'swwwwnwwnwwneseswswswseswwwwww', 'swseseseeesesenwseswsesenwnwswswseneseswse', 'nwsesesenwseseseweesesesesesesesesesene', 'nwseseseseseesesesweswseeeneenesesew', 'wnenwseseseswewnewseswenenenwsesesese', 'nwneseswnwsenwnenwnwnwnw', 'swseseswswneseneseswseseneswwsw', 'neeneeenesenwnenene', 'swnwwweseesesenewswseeswneswseewwse', 'esesenwseseseseseneseneseswseseseswnwsw', 'neneeneeweeenenenenwnwwneswneeswne', 'nwwesenwwenwnwswnwnwnwnwnwnwnwnwnwne', 'eeeneneneeeseneenwwneenesweene', 'seeseneeseseswneeseseseewneseesesw', 'sewwewwsewnwwsewewneswnesenewnw', 'nwnwnwnwwswnenwnwnwenwneewweeenenesw', 'wwnwwnwnwwnwenwenwwwsewsewww', 'wswswwnenewseswseswwswswwswwnwswne', 'neeswenweeeneeneeneeneswewee', 'wnesewwwwwwwwseenewsw', 'neswwswseswswnenwswswswseswswseseenew', 'wwseewswneswseswnweswnwswswwswswsw', 'seeswswnwnesenwseswewsesewnwswsenene', 'wwwwsewwwnwwwewnesenwwwwwwne', 'nwseswseswnwseseseswswswsesesee', 'sewwwneewnwnesewseswswnwnenwnwwwnw', 'nwwseneswwseswwwneswnesenewsenewsw', 'sewsewnewsesweswwneneneesewwnewww', 'swsenwnewwenwseswneneeneseseswswese', 'neneeesenwneswnewseswneenwenewenee', 'enwnenwsewwnwswwswwwnwenwswwnew', 'nwnewnwswswnenesenwnwswneeeneneenwnenw', 'wwnewwnwwsesenesewwwswewwweswnw', 'swenweeneeseeweseeeeseeeee', 'weswswswneswnwwwwseswwwwnwwsenese', 'wseseseeseeewseneseseseneseseswne', 'nwnwenwnenewwseswnenwnwnwseswwenwenew', 'seeswesenenenewwnwneneneneeneeene', 'neneseneneneseneneneswneswneenenenenwww', 'seswenwwsenwseneswnwswnwnwseseesenese', 'wwnwnwneswswnweenewwswwswwesww', 'eswsewwswswwswswswenesenenewswswwsw', 'seseseseseeneseesesenwnwnwseseseewsee', 'enewnwwnwneenenw', 'nwwswnwseenwnwsweeswee', 'swswneswswswseswseseseswnenenewnesw', 'nenwnwnenenwswnenenenwnw', 'ewwsesesewswseeseseseswswne', 'nwnwnenwnwnwnenwnesenenenwnwnwnw', 'seswseeswsesesenesesesewse', 'wnwnwnwneeswenwsesenenwseswnenenwsenw', 'newnenenenenenenenenesenenenenene', 'nwnwnwnwnwnwsenenwnwsenwnwnwsesenwnewnw', 'wswwwswwewnwswsesw', 'neswwewswwsewnwsenwwwnewwwww', 'wnwnwswswnesweswswseseswswswswswswnesw', 'nwneseswswsesewseswsenwesewseesweswnw', 'senenwsesesenweseswswseseseeseesesese', 'seswnesenwseeseseseeswesesese', 'seseswswseseneswseswseswnesesewnesewsese', 'wnenwneewenwneswneenwneswswwnenese', 'swsweneswswseswswswswswseswswwswewswnw', 'nwseswnwwnwnwnwnwnwenwwnwnwnwwsenwnw', 'seswswseseswswswsesenwswsesw', 'nwnwnewwnwnwsesewswnesenewsewwwenwnw', 'neswnwnwwwsewnwnwsenewnwwwnwwnwnwnew', 'seseseseseswsesesesesenwseeseseswnwswnw', 'nwnwnwnwnwnwswnwnewwnwnw', 'swswnwswswnwswswswswneeswwswswwseesw', 'eeeneseseswwsweweeeseneeewne', 'eneswnwsewswnwenenwwwwewwwnwsw', 'neseseneseswwesenewsenwnewswswneneswnw', 'senwnwnwenenenenwnenwneswswnwnwnwnenene', 'wewenwnwnwnwenwnwwnwnwnwwnwnwnwsw', 'neeneeeswneeeeswnenwwneeee', 'wnwnwewwnwwwwnwsenwnenwwswnwnwnwsw', 'newsweeneenesweeneesenwneeeww', 'newnenenwnwwneenesweneneneswnwneese', 'swwweneweseseswwswswwwwwwwwnew', 'eeenwneseswwneeeeneeeeeeene', 'sweswseweswswseseseseseswswsewwnwswe', 'wenenenenenenenwnwnenesenesenwswnenwnw', 'swswnwswewswwswswwswsewswwswwenwsw', 'seewenwsesesweseenweeseweenene', 'newneneneneswneseneseneenenenenwnenwnene', 'swwnwswnesewswwnwsewswswwenw', 'nwseseeneseseseseswseseesewseesenwse', 'wnwnwnwnwnwnwnwnwenwnwnwnwnw', 'seswnwwwswnwswswseswswswseeweseesesee', 'swswnewesewwnwswwwnewseswwnwswwwse', 'nesesweeeswenwwnwneeswnw', 'wnwwwnwnwwwseswnwwnenwsewnwewswe', 'neneneneneneswneswneneneeseeenwnenenwne', 'seenwsweeneseswnweenwsweneeswwswswne', 'newewneewneneeseswnesewnewseseene', 'eeeneeeneeneneewneene', 'nesewsewnwswswseneneswnwswe', 'nwnwenwnwwwsewnwnenwwwwnwenwenwsw', 'swseesesenwswsenwsenwswswswswsenwseseswse', 'seweeswnwswsesewseswseeseswsenwnwenwse', 'eeneenenenewnenenenewsenenewneenw', 'swswwneswsesesewseseesewnesesesenesw', 'weeswesweeeeseesenweeseeenw', 'swnesesenwswseseswswswsenenesesesesewnese', 'ewswsewwwwnwwwwwewsw', 'wnwwwnesewnwwswwwwnwnwswewswew', 'seeseseenwwwseesesewewnesenenese', 'seseseeeseseenwesesese', 'wwnwnenwwnenwwwwsenwweswnewsww', 'neesesesewsewswsesesesesesesesewsenese', 'eswswswswsenenwsesewswswswseswseswswneswsw', 'nwenwwwsenwswswewswwnwsewwswwnwse', 'nwwesenwnenwnwswwnwnwnewwwseswwnwnw', 'nenenenenenenwneswenenenwswnewnenwnenenese', 'nwnwnwnwwnenwnwwsewnwnwwnw', 'swwswswswwswwswswswswwesw', 'swswwswenweswseswsw', 'seseseswsesesenweseeewseseseesenwsee', 'nesewnenwnenenwnenesewneseenwneswew', 'nwnenwswnwwswnewnw', 'swswswswswseswswswswswnwseswswsw', 'nenwnenwnwnenwnenenenwse', 'eswswswswswswswsewwswwwwseswswswswnene', 'nwneseswnwswnenenwnenwenwnwnwneswnenenw', 'swneeenenwnwneswnenenese', 'swswswewwswnwesw', 'nwnwnwnwneeneneswneneeswseenwnwswswnwnwne', 'nwsesenwneneneseneneswnewsenewwnwnenese', 'seseseswswseseeswwswsesewesese', 'enwnenewnenesewsweseswwnesenenwsene', 'sesenewnwswseseswswswneswneswswseseesw', 'wewewnwnwwwwwwswwswwwew', 'eswsenwwnwwsweeseesesesesesesesenenw', 'enwswseeeneenewneneeeenwswwsee', 'newwwswswsewswswsenwswswswswswswswswnese', 'eweeseeeeseeeeseewewnesese', 'sewsenwsesenwseswneeswneseswneswnenwnwsw', 'swneeseeeenwswswenenwenwwneswene', 'seneeseenwseswswswnwnwseseseewswwsenw', 'nenwwneeseseewsesesenewseeseesesw', 'nwsenenwneeneneswswnenwswwesweeeeene', 'enwneeswsenwseeene', 'nwwewnweswnwwenwnesenw', 'nenwseneneneenenenweneeneswewneneswnene', 'esesesesesewnwwneseeseswesewnwswsenw', 'wswswswswwswwswnwswwnwewswwewne', 'eeneeseeeenesenwesewnesewenwneew', 'eeeweeeeseeeeeewse', 'eneswneneseneswnwew', 'nwswnwnwenenwnwnwneenwnenwnenenesweswnw', 'swsenenenenenwsenwesenwnwnwnwswnenenww', 'nwwseeswwwwnwwswnenewwewnwwww', 'nwswswswnwswneeswswseswseswseswse', 'nwnenesewswnwewnenesewnenenwesenwnwe', 'wsesesenewseswnenwswswnw', 'eeeeseenwnenwseneeneeneeweesw', 'eeenweeeeeweeeseswnwswnwnwsw', 'nesewnenesenwnwnwnenwnwenwwnewnenwnene', 'nwwswwnwwswenenwnwnwwnwnwnw', 'neneesenesenwneneswnenenwnwwnenenwnwnenw', 'neeenwneeneneneeneweswneswswnenenene', 'nwnwwnwnenwneneswwnweseneneenw', 'nenesesesewnwnwswnesenewewneeswnewnwse', 'swnwnenenwenwneneseswneswnwneenwnwswne', 'nwnweeewesweseeee', 'wsewwnwneeswswswswswwwswweswswswe', 'wwnwnwwnwwnenwnenwewswnwwwswwswsew', 'enwswwwnwnweswewnwwsewwwwew', 'wnwwwwswnwwwwnewwwsesewwww', 'swnwnwesenenenenweswneswswsewewww', 'eneeneewneeneseeneneneweewsenene', 'ewsenenenenenenwnenewnenwnene', 'esenwwwsweewswnww', 'eenwswnwsewenwsenwsenwnweneseswseswnw', 'sewnwneeewsweseesweeewnewswnwene', 'swswswswseesweswswsenwseswswsesenwswsw', 'swswneseswswweswnwswseswswswswnesesesesw', 'esewenweseneesweenweseneneneesw', 'neneweeneeswesesenewesweeseswwe', 'neeneenwneswnenwnenwnwswesenenenewnewnw', 'wwwwwnwwwewswwnwewwneswnwnw', 'seenwseneneswwwswwwnwswswswwnesenesw', 'nwnwnewnwnwnwnwesenwnwnwnwnw', 'nenenwseswswseneswwnwswwwsewseswnww', 'senesesenwwnewnwneneewsw', 'senwswnewsenwwneswwewnwnwwnwneenw', 'swnweesewswswswwswswseseswseswneswswsw', 'senwwnwnenenenwnwnwenwnwnwsesenenewnwnw', 'swneswseeseneswswewseseseseswswswswnwsese', 'sesewnwsewwnesewwnwnwnwnwnenenwsesww', 'eneswnenenewnenwwseneneeneneswswnesw', 'enwwwnwseenwneswnewsewsweseeenwsw', 'nwwwnwnwwewswwwwesewswswswww', 'seeseswwwewneeswswenwnweneswnese', 'swwswnwseseseenwseneseseenwesese', 'senenesenenesenenenenwwwwswneeneeew', 'nwsewnenwwnwwnwnwnwwneswnwnwe', 'seseseswsewneseseseswswneswseseswswsenese', 'nwnwnwsewwnewnwenwnesenenenenwnwnwnw', 'wwnwnwwesesenwwsenwwweeswwnew', 'eneswnenwswnwwwnwnwneneenenenwseswe', 'nwswseseswnwseswswswnwsewswswnwswswswsw', 'wswswnewswwsweeswewesww', 'eneneneneseenwneneewneneeneweee', 'seseeeseeweeeeesesee', 'sesewenweswseeeneseseeeeswenee', 'nesesenwseswsesenwsenwseswseesww', 'swswswseswseswswswswswswneswswsw', 'swseswsenwnwnenwnwswseee', 'neseswneswwwnwswnwseenewnenwsenesenesw', 'nwnwnwnenwnwswnenwnwswnwnw', 'seswswswswesesenwwesesesenwwswsenwsesw', 'seswnwneswnwnewswswenwsenesenenwnesenesw', 'esweeneseweeeeenwsweeneeeee', 'eswsenwnwsenenwswswwswnwsenwwnesweswse', 'nenenenenenwneneneneswnenene', 'eenesweeeneeeeneenwnwneswswene', 'wwwseswsewnwwwwne', 'seseneenweneenwewseneeenenenewswe', 'wnwnwneneneenwnenenwesewnenwwenewne', 'nwweenwwnwewnwesenesesesenwwswwswne', 'nweenwseseeesesesesesweeeeeewe', 'nwneeneswnwnwnwswnwnewnwenww', 'ewnwnenwnwwewenwsewwswnwsenwnww', 'senenweneseeswsenwseseswsenweswseesw', 'ewnwewsewnwnwnwwnwwswwwswwwse', 'wwswswnwswswesesewswwneneswswwesew', 'nenwnwnesenwnenwwnwnwneswseweeswsenw', 'senwwwnwenwwenwwswswnenwnwnwwnwe', 'nwnenwnwesenwwnwnwnwnenwswneeewswnwne', 'sesewseenwsewsesesewseeenwesesee', 'eseeeesesesenwe', 'senweeseenenwnenenenenwneeeewnese', 'nenwnwnwnwesweswnwsenwnwnwnwnwnenwsewnw', 'swseswswnwswswswswwswsw', 'swwsewneswswsweswwnenwseseseneswwsese', 'eneeweeneneeenenewneenenee', 'senesenwnwwseseewswsenwnenwseswse', 'swswseswswwwswneswswswneeseswwneswswsw', 'nenenenenenwseneenenee', 'esewseseseneseeseswseseeseswnesenewse', 'swwsesesweswnwswswnwseesenesesesesesesw', 'swweswwwwwwwswnwswsw', 'wswwwswweswwswwswswneswwswnw', 'ewwwsewwwnwwnenwwewnwnwwnwnwse', 'seneeswsesweseseenwsenwesee', 'nwnwnewnwenwnwnwwnenenenwnesenenene', 'neeeeeeeeeweeeee', 'wswnesenweenwesene', 'eeeeswseeeneseseseswnewseesesee', 'eeswnwseeeneneewseeswneneesweenww', 'enwnwnwnwnwnwwwsenwwwwnwnwswwwsew', 'nwsewswswswseeswswnwnwnwswseneswe', 'eseeseesesenweweseneseeesweew', 'nwswwnwswenwewnwwwnwwwewenww', 'nwwnwnwnwenenwnwswsesewnwnw', 'wwnenwwsewnwnwwnwnwwnww', 'neeeneneeweenwnwswseneseeneneeswnw', 'nwnwnenwnwenwnwswnenwwsenwenw', 'weseeseeseswnwneswseeseenesewsesese', 'seneewenwswnewseewnwwwwneswwesw', 'nwwnwnenwsenwnwnwnwnwsenenwnenw', 'sesweswswnenwnwswswseneswneseseswseswwew', 'nwsenwsenewenwnwnwswnwnenenwnenwnwwnwnw', 'swnwwswswswsesesesenenwswswswswseseneswsw', 'seswswwneswseseswsw', 'nwewesweeeseeneseeeenwseeeee', 'swsesesenewneseswseeseseseseseseseenw', 'swseswswsesweneseneswswswswswswswsenwsenw', 'nwnwnwnwnwwnwnwwnwsenwnwnweewwnwnw', 'sesenwseseseswsenesesesewsesenesesesesese', 'wnewwewwwnwwwweswwwwwsww', 'neweneswnenenenenenenwneenese', 'senwnenwswseseenenenwnwswwwnwswsenwe', 'nwnweswswnwewwesewnwnwnw', 'weeeesweeeneeeseeseesenwnwwe', 'enwsewweseweeseeweenwnwsesese', 'senwnenwnwswnenesenwnenenenenenwnenenenw', 'seesesesenwseeseeeeseewnewesenwse', 'nwnwnwswnwswwnwnwsesenwnwnwnwenwnwenwnw', 'esewswneseseewsweeweenwsenwsenwse', 'wnwenwnwseswesesesesww', 'eseeweswseeeseenesenwsesesesesee', 'nwwwwenwnwsenwsenwnweseneswnwnwnwse', 'nweeeewseeswnweneesweswnenwseee', 'wsenwnwwnwnweseswwneenwwnewwwswnw', 'neneseeneweeneneneeneeenee', 'neeswnenwneeweneswwseeneneneenwneese', 'nwnwnwnwnwnenwnwnwnewse', 'swsesenwseswneswseseseseseswnesesesesw', 'nenwneswswsesewnwnewwswseswwwswneswsew', 'nenwswwnwswnwwnwnwnwnwnwnwnwneenenenwe', 'wwnwnenwsenwnwseswnwseneeswnenwswneese', 'seseneseseesenwnwseseesenweseswswnwsewse', 'nwnwnwnwnwesenwnwnwenwnwnwnwnwswnwnwwnw', 'nwwsenenwnwnenwsene', 'nwsesewnewswswswwnwswesweneeswwswne', 'eneneneneeeeneesweneeeenweswnesw', 'ewnenenewseneswnwwswseswseseenwsesenw', 'seesenwnweneeeeesweeeeeeeewe']\n"
     ]
    }
   ],
   "source": [
    "dtype = 'string'\n",
    "txt=[]\n",
    "\n",
    "f_in = Path('./Data Sets/day25data.txt')\n",
    "with open(f_in,'r') as f:\n",
    "    txt = f.read().split('\\n')\n",
    "\n",
    "if(dtype == 'int'):\n",
    "    nums = []\n",
    "    for num in txt:\n",
    "        nums.append(int(num))\n",
    "elif(dtype == 'float'):\n",
    "    nums = []\n",
    "    for num in txt:\n",
    "        nums.append(float(num))\n",
    "print(txt)\n",
    "# print(nums)"
   ]
  },
  {
   "cell_type": "code",
   "execution_count": 6,
   "metadata": {},
   "outputs": [
    {
     "name": "stdout",
     "output_type": "stream",
     "text": [
      "['sesenwnenenewseeswwswswwnenewsewsw', 'neeenesenwnwwswnenewnwwsewnenwseswesw', 'seswneswswsenwwnwse', 'nwnwneseeswswnenewneswwnewseswneseene', 'swweswneswnenwsewnwneneseenw', 'eesenwseswswnenwswnwnwsewwnwsene', 'sewnenenenesenwsewnenwwwse', 'wenwwweseeeweswwwnwwe', 'wsweesenenewnwwnwsenewsenwwsesesenwne', 'neeswseenwwswnwswswnw', 'nenwswwsewswnenenewsenwsenwnesesenew', 'enewnwewneswsewnwswenweswnenwsenwsw', 'sweneswneswneneenwnewenewwneswswnese', 'swwesenesewenwneswnwwneseswwne', 'enesenwswwswneneswsenwnewswseenwsese', 'wnwnesenesenenwwnenwsewesewsesesew', 'nenewswnwewswnenesenwnesewesw', 'eneswnwswnwsenenwnwnwwseeswneewsenese', 'neswnwewnwnwseenwseesewsenwsweewe', 'wseweeenwnesenwwwswnew']\n"
     ]
    }
   ],
   "source": [
    "test=[]\n",
    "\n",
    "f_in = Path('./Data Sets/test2.txt')\n",
    "with open(f_in,'r') as f:\n",
    "    test = f.read().split('\\n')\n",
    "\n",
    "if(dtype == 'int'):\n",
    "    testnums = []\n",
    "    for num in test:\n",
    "        testnums.append(int(num))\n",
    "elif(dtype == 'float'):\n",
    "    testnums = []\n",
    "    for num in test:\n",
    "        testnums.append(float(num))\n",
    "print(test)\n",
    "# print(testnums)"
   ]
  },
  {
   "cell_type": "code",
   "execution_count": 2,
   "metadata": {},
   "outputs": [
    {
     "data": {
      "text/plain": [
       "5764801"
      ]
     },
     "execution_count": 2,
     "metadata": {},
     "output_type": "execute_result"
    }
   ],
   "source": [
    "7**8"
   ]
  },
  {
   "cell_type": "code",
   "execution_count": 20,
   "metadata": {},
   "outputs": [
    {
     "name": "stdout",
     "output_type": "stream",
     "text": [
      "12419160\n",
      "2115361\n"
     ]
    }
   ],
   "source": [
    "target1 = 2084668\n",
    "current = 7\n",
    "loop = 1\n",
    "\n",
    "while current != target1:\n",
    "    current *=7\n",
    "    current = current % 20201227\n",
    "    loop+=1\n",
    "print(loop)\n",
    "\n",
    "target2 = 3704642\n",
    "current = 7\n",
    "loop = 1\n",
    "\n",
    "while current != target2:\n",
    "    current *=7\n",
    "    current = current % 20201227\n",
    "    loop+=1\n",
    "print(loop)"
   ]
  },
  {
   "cell_type": "code",
   "execution_count": 21,
   "metadata": {},
   "outputs": [
    {
     "name": "stdout",
     "output_type": "stream",
     "text": [
      "42668\n",
      "42668\n"
     ]
    }
   ],
   "source": [
    "loop = 1\n",
    "loops = 12419160\n",
    "current = 3704642\n",
    "while loop != loops:\n",
    "    current *=3704642\n",
    "    current = current % 20201227\n",
    "    loop+=1\n",
    "print(current)\n",
    "\n",
    "loop = 1\n",
    "loops = 2115361\n",
    "current = 2084668\n",
    "while loop != loops:\n",
    "    current *=2084668\n",
    "    current = current % 20201227\n",
    "    loop+=1\n",
    "print(current)"
   ]
  },
  {
   "cell_type": "code",
   "execution_count": null,
   "metadata": {},
   "outputs": [],
   "source": []
  }
 ],
 "metadata": {
  "kernelspec": {
   "display_name": "Python 3",
   "language": "python",
   "name": "python3"
  },
  "language_info": {
   "codemirror_mode": {
    "name": "ipython",
    "version": 3
   },
   "file_extension": ".py",
   "mimetype": "text/x-python",
   "name": "python",
   "nbconvert_exporter": "python",
   "pygments_lexer": "ipython3",
   "version": "3.8.3"
  }
 },
 "nbformat": 4,
 "nbformat_minor": 4
}
