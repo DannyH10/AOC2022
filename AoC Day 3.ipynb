{
 "cells": [
  {
   "cell_type": "markdown",
   "metadata": {},
   "source": [
    "## First Attempt"
   ]
  },
  {
   "cell_type": "code",
   "execution_count": 1,
   "metadata": {},
   "outputs": [],
   "source": [
    "from pathlib import Path"
   ]
  },
  {
   "cell_type": "code",
   "execution_count": 56,
   "metadata": {},
   "outputs": [],
   "source": [
    "dtype = 'string'\n",
    "txt=[]\n",
    "\n",
    "f_in = Path('./Data Sets/day3data.txt')\n",
    "with open(f_in,'r') as f:\n",
    "    txt = f.read().split('\\n')\n",
    "\n",
    "if(dtype == 'int'):\n",
    "    nums = []\n",
    "    for num in txt:\n",
    "        nums.append(int(num))\n",
    "elif(dtype == 'float'):\n",
    "    nums = []\n",
    "    for num in txt:\n",
    "        nums.append(float(num))\n",
    "# print(txt)"
   ]
  },
  {
   "cell_type": "markdown",
   "metadata": {},
   "source": [
    "## Part 1"
   ]
  },
  {
   "cell_type": "code",
   "execution_count": 48,
   "metadata": {},
   "outputs": [
    {
     "name": "stdout",
     "output_type": "stream",
     "text": [
      "8123\n"
     ]
    }
   ],
   "source": [
    "sum = 0\n",
    "for l in txt:\n",
    "    first = l[:int(len(l)/2)]\n",
    "    second =l[int(len(l)/2):]\n",
    "    f_s = set(list(first))\n",
    "    s_s = set(list(second))\n",
    "    letter = list(s_s.intersection(f_s))[0]\n",
    "    if(letter.islower()):\n",
    "        val = ord(letter) - 96\n",
    "    else:\n",
    "        val = ord(letter) - 38\n",
    "    sum += val\n",
    "print(sum)"
   ]
  },
  {
   "cell_type": "markdown",
   "metadata": {},
   "source": [
    "## Part 2"
   ]
  },
  {
   "cell_type": "code",
   "execution_count": 72,
   "metadata": {},
   "outputs": [
    {
     "name": "stdout",
     "output_type": "stream",
     "text": [
      "2620\n"
     ]
    }
   ],
   "source": [
    "total = 0\n",
    "\n",
    "for idx in range(int(len(txt)/3)):\n",
    "    first = txt[3 * idx]\n",
    "    second = txt[3 * idx + 1]\n",
    "    third = txt[3 * idx + 2]\n",
    "    f_s = set(list(first))\n",
    "    s_s = set(list(second))\n",
    "    t_s = set(list(third))\n",
    "    letter = list(f_s.intersection(s_s).intersection(t_s))[0]\n",
    "    if(letter.islower()):\n",
    "        val = ord(letter) - 96\n",
    "    else:\n",
    "        val = ord(letter) - 38\n",
    "    total += val\n",
    "print(total)"
   ]
  }
 ],
 "metadata": {
  "kernelspec": {
   "display_name": "Python 3 (ipykernel)",
   "language": "python",
   "name": "python3"
  },
  "language_info": {
   "codemirror_mode": {
    "name": "ipython",
    "version": 3
   },
   "file_extension": ".py",
   "mimetype": "text/x-python",
   "name": "python",
   "nbconvert_exporter": "python",
   "pygments_lexer": "ipython3",
   "version": "3.10.4"
  }
 },
 "nbformat": 4,
 "nbformat_minor": 4
}
